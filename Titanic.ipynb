{
 "cells": [
  {
   "cell_type": "markdown",
   "metadata": {},
   "source": [
    "# Titanic Dataset\n",
    "\n",
    "The aim of this project is to predict if a person onboard the titanic would survive based on predictors given by the titanic dataset. The only goal is to achieve the highest possible prediction accuracy.\n",
    "\n",
    "This notebook shows the process used to develop an accurate predictor. Much of this code is repeated in an attempt to allow code blocks to be run seperately."
   ]
  },
  {
   "cell_type": "code",
   "execution_count": 1,
   "metadata": {
    "collapsed": true
   },
   "outputs": [],
   "source": [
    "### Load libraries\n",
    "import pandas as pd\n",
    "import numpy as np\n",
    "from pandas.tools.plotting import scatter_matrix\n",
    "import matplotlib.pyplot as plt\n",
    "from sklearn import preprocessing\n",
    "from sklearn.metrics import classification_report\n",
    "from sklearn.metrics import confusion_matrix\n",
    "from sklearn.metrics import accuracy_score\n",
    "from sklearn.preprocessing import Imputer\n",
    "from statsmodels.stats.outliers_influence import variance_inflation_factor\n",
    "\n",
    "from sklearn import model_selection\n",
    "from sklearn.linear_model import LogisticRegression\n",
    "from sklearn.tree import DecisionTreeClassifier\n",
    "from sklearn.neighbors import KNeighborsClassifier\n",
    "from sklearn.discriminant_analysis import LinearDiscriminantAnalysis\n",
    "from sklearn.naive_bayes import GaussianNB\n",
    "from sklearn.svm import SVC\n",
    "from sklearn.preprocessing import StandardScaler\n",
    "\n",
    "%matplotlib inline\n",
    "import matplotlib.pyplot as plt\n",
    "from IPython.display import display, HTML\n",
    "import re"
   ]
  },
  {
   "cell_type": "code",
   "execution_count": 2,
   "metadata": {
    "scrolled": true
   },
   "outputs": [
    {
     "name": "stdout",
     "output_type": "stream",
     "text": [
      "Percentage survived: 0.383838383838\n"
     ]
    },
    {
     "data": {
      "text/html": [
       "<div>\n",
       "<style>\n",
       "    .dataframe thead tr:only-child th {\n",
       "        text-align: right;\n",
       "    }\n",
       "\n",
       "    .dataframe thead th {\n",
       "        text-align: left;\n",
       "    }\n",
       "\n",
       "    .dataframe tbody tr th {\n",
       "        vertical-align: top;\n",
       "    }\n",
       "</style>\n",
       "<table border=\"1\" class=\"dataframe\">\n",
       "  <thead>\n",
       "    <tr style=\"text-align: right;\">\n",
       "      <th></th>\n",
       "      <th>PassengerId</th>\n",
       "      <th>Survived</th>\n",
       "      <th>Pclass</th>\n",
       "      <th>Name</th>\n",
       "      <th>Sex</th>\n",
       "      <th>Age</th>\n",
       "      <th>SibSp</th>\n",
       "      <th>Parch</th>\n",
       "      <th>Ticket</th>\n",
       "      <th>Fare</th>\n",
       "      <th>Cabin</th>\n",
       "      <th>Embarked</th>\n",
       "    </tr>\n",
       "  </thead>\n",
       "  <tbody>\n",
       "    <tr>\n",
       "      <th>0</th>\n",
       "      <td>1</td>\n",
       "      <td>0</td>\n",
       "      <td>3</td>\n",
       "      <td>Braund, Mr. Owen Harris</td>\n",
       "      <td>male</td>\n",
       "      <td>22.0</td>\n",
       "      <td>1</td>\n",
       "      <td>0</td>\n",
       "      <td>A/5 21171</td>\n",
       "      <td>7.2500</td>\n",
       "      <td>NaN</td>\n",
       "      <td>S</td>\n",
       "    </tr>\n",
       "    <tr>\n",
       "      <th>1</th>\n",
       "      <td>2</td>\n",
       "      <td>1</td>\n",
       "      <td>1</td>\n",
       "      <td>Cumings, Mrs. John Bradley (Florence Briggs Th...</td>\n",
       "      <td>female</td>\n",
       "      <td>38.0</td>\n",
       "      <td>1</td>\n",
       "      <td>0</td>\n",
       "      <td>PC 17599</td>\n",
       "      <td>71.2833</td>\n",
       "      <td>C85</td>\n",
       "      <td>C</td>\n",
       "    </tr>\n",
       "    <tr>\n",
       "      <th>2</th>\n",
       "      <td>3</td>\n",
       "      <td>1</td>\n",
       "      <td>3</td>\n",
       "      <td>Heikkinen, Miss. Laina</td>\n",
       "      <td>female</td>\n",
       "      <td>26.0</td>\n",
       "      <td>0</td>\n",
       "      <td>0</td>\n",
       "      <td>STON/O2. 3101282</td>\n",
       "      <td>7.9250</td>\n",
       "      <td>NaN</td>\n",
       "      <td>S</td>\n",
       "    </tr>\n",
       "    <tr>\n",
       "      <th>3</th>\n",
       "      <td>4</td>\n",
       "      <td>1</td>\n",
       "      <td>1</td>\n",
       "      <td>Futrelle, Mrs. Jacques Heath (Lily May Peel)</td>\n",
       "      <td>female</td>\n",
       "      <td>35.0</td>\n",
       "      <td>1</td>\n",
       "      <td>0</td>\n",
       "      <td>113803</td>\n",
       "      <td>53.1000</td>\n",
       "      <td>C123</td>\n",
       "      <td>S</td>\n",
       "    </tr>\n",
       "    <tr>\n",
       "      <th>4</th>\n",
       "      <td>5</td>\n",
       "      <td>0</td>\n",
       "      <td>3</td>\n",
       "      <td>Allen, Mr. William Henry</td>\n",
       "      <td>male</td>\n",
       "      <td>35.0</td>\n",
       "      <td>0</td>\n",
       "      <td>0</td>\n",
       "      <td>373450</td>\n",
       "      <td>8.0500</td>\n",
       "      <td>NaN</td>\n",
       "      <td>S</td>\n",
       "    </tr>\n",
       "  </tbody>\n",
       "</table>\n",
       "</div>"
      ],
      "text/plain": [
       "   PassengerId  Survived  Pclass  \\\n",
       "0            1         0       3   \n",
       "1            2         1       1   \n",
       "2            3         1       3   \n",
       "3            4         1       1   \n",
       "4            5         0       3   \n",
       "\n",
       "                                                Name     Sex   Age  SibSp  \\\n",
       "0                            Braund, Mr. Owen Harris    male  22.0      1   \n",
       "1  Cumings, Mrs. John Bradley (Florence Briggs Th...  female  38.0      1   \n",
       "2                             Heikkinen, Miss. Laina  female  26.0      0   \n",
       "3       Futrelle, Mrs. Jacques Heath (Lily May Peel)  female  35.0      1   \n",
       "4                           Allen, Mr. William Henry    male  35.0      0   \n",
       "\n",
       "   Parch            Ticket     Fare Cabin Embarked  \n",
       "0      0         A/5 21171   7.2500   NaN        S  \n",
       "1      0          PC 17599  71.2833   C85        C  \n",
       "2      0  STON/O2. 3101282   7.9250   NaN        S  \n",
       "3      0            113803  53.1000  C123        S  \n",
       "4      0            373450   8.0500   NaN        S  "
      ]
     },
     "metadata": {},
     "output_type": "display_data"
    },
    {
     "name": "stdout",
     "output_type": "stream",
     "text": [
      "\n",
      " Percentage of missing entries for each predictor in Original Dataset\n",
      "\n",
      "Survived     0.000000\n",
      "Pclass       0.000000\n",
      "Sex          0.000000\n",
      "Age         19.865320\n",
      "SibSp        0.000000\n",
      "Parch        0.000000\n",
      "Fare         0.000000\n",
      "Cabin       77.104377\n",
      "Embarked     0.224467\n",
      "dtype: float64\n",
      "\n",
      " Percentage of missing entries for each predictor in dataset after processing\n",
      "\n",
      "Survived    0.0\n",
      "Pclass      0.0\n",
      "Sex         0.0\n",
      "Age         0.0\n",
      "SibSp       0.0\n",
      "Parch       0.0\n",
      "Fare        0.0\n",
      "Embarked    0.0\n",
      "dtype: float64\n",
      "\n",
      "Data set sample after coarse preprocessing\n"
     ]
    },
    {
     "data": {
      "text/html": [
       "<div>\n",
       "<style>\n",
       "    .dataframe thead tr:only-child th {\n",
       "        text-align: right;\n",
       "    }\n",
       "\n",
       "    .dataframe thead th {\n",
       "        text-align: left;\n",
       "    }\n",
       "\n",
       "    .dataframe tbody tr th {\n",
       "        vertical-align: top;\n",
       "    }\n",
       "</style>\n",
       "<table border=\"1\" class=\"dataframe\">\n",
       "  <thead>\n",
       "    <tr style=\"text-align: right;\">\n",
       "      <th></th>\n",
       "      <th>Survived</th>\n",
       "      <th>Pclass</th>\n",
       "      <th>Sex</th>\n",
       "      <th>Age</th>\n",
       "      <th>SibSp</th>\n",
       "      <th>Parch</th>\n",
       "      <th>Fare</th>\n",
       "      <th>Embarked</th>\n",
       "    </tr>\n",
       "  </thead>\n",
       "  <tbody>\n",
       "    <tr>\n",
       "      <th>0</th>\n",
       "      <td>0</td>\n",
       "      <td>3</td>\n",
       "      <td>0</td>\n",
       "      <td>22.0</td>\n",
       "      <td>1</td>\n",
       "      <td>0</td>\n",
       "      <td>7.2500</td>\n",
       "      <td>2</td>\n",
       "    </tr>\n",
       "    <tr>\n",
       "      <th>1</th>\n",
       "      <td>1</td>\n",
       "      <td>1</td>\n",
       "      <td>1</td>\n",
       "      <td>38.0</td>\n",
       "      <td>1</td>\n",
       "      <td>0</td>\n",
       "      <td>71.2833</td>\n",
       "      <td>0</td>\n",
       "    </tr>\n",
       "    <tr>\n",
       "      <th>2</th>\n",
       "      <td>1</td>\n",
       "      <td>3</td>\n",
       "      <td>1</td>\n",
       "      <td>26.0</td>\n",
       "      <td>0</td>\n",
       "      <td>0</td>\n",
       "      <td>7.9250</td>\n",
       "      <td>2</td>\n",
       "    </tr>\n",
       "    <tr>\n",
       "      <th>3</th>\n",
       "      <td>1</td>\n",
       "      <td>1</td>\n",
       "      <td>1</td>\n",
       "      <td>35.0</td>\n",
       "      <td>1</td>\n",
       "      <td>0</td>\n",
       "      <td>53.1000</td>\n",
       "      <td>2</td>\n",
       "    </tr>\n",
       "    <tr>\n",
       "      <th>4</th>\n",
       "      <td>0</td>\n",
       "      <td>3</td>\n",
       "      <td>0</td>\n",
       "      <td>35.0</td>\n",
       "      <td>0</td>\n",
       "      <td>0</td>\n",
       "      <td>8.0500</td>\n",
       "      <td>2</td>\n",
       "    </tr>\n",
       "  </tbody>\n",
       "</table>\n",
       "</div>"
      ],
      "text/plain": [
       "   Survived  Pclass  Sex   Age  SibSp  Parch     Fare  Embarked\n",
       "0         0       3    0  22.0      1      0   7.2500         2\n",
       "1         1       1    1  38.0      1      0  71.2833         0\n",
       "2         1       3    1  26.0      0      0   7.9250         2\n",
       "3         1       1    1  35.0      1      0  53.1000         2\n",
       "4         0       3    0  35.0      0      0   8.0500         2"
      ]
     },
     "metadata": {},
     "output_type": "display_data"
    },
    {
     "name": "stdout",
     "output_type": "stream",
     "text": [
      "Data set sample after Normalising\n"
     ]
    },
    {
     "name": "stderr",
     "output_type": "stream",
     "text": [
      "C:\\Users\\Programming\\Anaconda3\\lib\\site-packages\\sklearn\\utils\\validation.py:475: DataConversionWarning: Data with input dtype int64 was converted to float64 by MinMaxScaler.\n",
      "  warnings.warn(msg, DataConversionWarning)\n"
     ]
    },
    {
     "data": {
      "text/html": [
       "<div>\n",
       "<style>\n",
       "    .dataframe thead tr:only-child th {\n",
       "        text-align: right;\n",
       "    }\n",
       "\n",
       "    .dataframe thead th {\n",
       "        text-align: left;\n",
       "    }\n",
       "\n",
       "    .dataframe tbody tr th {\n",
       "        vertical-align: top;\n",
       "    }\n",
       "</style>\n",
       "<table border=\"1\" class=\"dataframe\">\n",
       "  <thead>\n",
       "    <tr style=\"text-align: right;\">\n",
       "      <th></th>\n",
       "      <th>Survived</th>\n",
       "      <th>Pclass</th>\n",
       "      <th>Sex</th>\n",
       "      <th>Age</th>\n",
       "      <th>SibSp</th>\n",
       "      <th>Parch</th>\n",
       "      <th>Fare</th>\n",
       "      <th>Embarked</th>\n",
       "    </tr>\n",
       "  </thead>\n",
       "  <tbody>\n",
       "    <tr>\n",
       "      <th>0</th>\n",
       "      <td>0</td>\n",
       "      <td>1.0</td>\n",
       "      <td>0.0</td>\n",
       "      <td>0.271174</td>\n",
       "      <td>0.125</td>\n",
       "      <td>0.0</td>\n",
       "      <td>0.014151</td>\n",
       "      <td>1.0</td>\n",
       "    </tr>\n",
       "    <tr>\n",
       "      <th>1</th>\n",
       "      <td>1</td>\n",
       "      <td>0.0</td>\n",
       "      <td>1.0</td>\n",
       "      <td>0.472229</td>\n",
       "      <td>0.125</td>\n",
       "      <td>0.0</td>\n",
       "      <td>0.139136</td>\n",
       "      <td>0.0</td>\n",
       "    </tr>\n",
       "    <tr>\n",
       "      <th>2</th>\n",
       "      <td>1</td>\n",
       "      <td>1.0</td>\n",
       "      <td>1.0</td>\n",
       "      <td>0.321438</td>\n",
       "      <td>0.000</td>\n",
       "      <td>0.0</td>\n",
       "      <td>0.015469</td>\n",
       "      <td>1.0</td>\n",
       "    </tr>\n",
       "    <tr>\n",
       "      <th>3</th>\n",
       "      <td>1</td>\n",
       "      <td>0.0</td>\n",
       "      <td>1.0</td>\n",
       "      <td>0.434531</td>\n",
       "      <td>0.125</td>\n",
       "      <td>0.0</td>\n",
       "      <td>0.103644</td>\n",
       "      <td>1.0</td>\n",
       "    </tr>\n",
       "    <tr>\n",
       "      <th>4</th>\n",
       "      <td>0</td>\n",
       "      <td>1.0</td>\n",
       "      <td>0.0</td>\n",
       "      <td>0.434531</td>\n",
       "      <td>0.000</td>\n",
       "      <td>0.0</td>\n",
       "      <td>0.015713</td>\n",
       "      <td>1.0</td>\n",
       "    </tr>\n",
       "  </tbody>\n",
       "</table>\n",
       "</div>"
      ],
      "text/plain": [
       "   Survived  Pclass  Sex       Age  SibSp  Parch      Fare  Embarked\n",
       "0         0     1.0  0.0  0.271174  0.125    0.0  0.014151       1.0\n",
       "1         1     0.0  1.0  0.472229  0.125    0.0  0.139136       0.0\n",
       "2         1     1.0  1.0  0.321438  0.000    0.0  0.015469       1.0\n",
       "3         1     0.0  1.0  0.434531  0.125    0.0  0.103644       1.0\n",
       "4         0     1.0  0.0  0.434531  0.000    0.0  0.015713       1.0"
      ]
     },
     "metadata": {},
     "output_type": "display_data"
    }
   ],
   "source": [
    "######################## Pre-Processing #####################################\n",
    "\n",
    "#### Coarse pre-Processing\n",
    "\n",
    "#### Retrieve Dataset\n",
    "\n",
    "dataset = pd.read_csv('C:/Users/Programming/Desktop/train.csv')\n",
    "\n",
    "# Check the distribution of Classes\n",
    "print('Percentage survived:', dataset.Survived[dataset.Survived == 1].count()/dataset.Survived.count())\n",
    "# 38% of the data results are survivors. This is a relatively good class split ratio and so accuracy can be used as a measure\n",
    "\n",
    "display(dataset.head(5))\n",
    "\n",
    "# PassengerId is just sequential numbering and so supplies no information so it can be dropped\n",
    "dataset.drop(['PassengerId'], axis = 1, inplace = True)\n",
    "\n",
    "#Passenger name gives little information so drop\n",
    "dataset.drop(['Name'], axis = 1, inplace = True)\n",
    "\n",
    "#Ticket may present information but is non-numeric and difficult to transform so I will drop it for the spot check\n",
    "dataset.drop(['Ticket'], axis = 1, inplace = True)\n",
    "\n",
    "#### Deal with missing Data\n",
    "\n",
    "#Calculate percentage of missing data for each column\n",
    "print('\\n Percentage of missing entries for each predictor in Original Dataset\\n')\n",
    "print((dataset.isnull().sum()/len(dataset))*100)\n",
    "\n",
    "# Cabin number is not present for the majority of passengers so it will be dropped\n",
    "dataset.drop(['Cabin'], axis = 1, inplace = True)\n",
    "\n",
    "# A very small number of Embarked data is is missing so these rows can be removed withought losing much data\n",
    "dataset = dataset[pd.notnull(dataset['Embarked'])]\n",
    "\n",
    "# Age is missing some values. As most are there and age will most likely be an important factor in survival,\n",
    "# I will replace the NaNs with the average age\n",
    "# Imputer from scikit-learn will do this for me\n",
    "dataset[['Age']] = Imputer().fit_transform(dataset[['Age']].values)\n",
    "\n",
    "#Sex is non numeric, as there are only 2 classes we can swap male and female for 0 and 1\n",
    "dataset[['Sex']] = dataset[['Sex']].replace('male', 0)\n",
    "dataset[['Sex']] = dataset[['Sex']].replace('female', 1)\n",
    "\n",
    "# use integer encoding for embarked\n",
    "le = preprocessing.LabelEncoder()\n",
    "dataset['Embarked'] = le.fit_transform(dataset['Embarked'])\n",
    "\n",
    "print('\\n Percentage of missing entries for each predictor in dataset after processing\\n')\n",
    "print((dataset.isnull().sum()/len(dataset))*100)\n",
    "\n",
    "print('\\nData set sample after coarse preprocessing')\n",
    "display(dataset.head(5))\n",
    "\n",
    "# Normalise Column values\n",
    "\n",
    "def normaliseColumnValues(dataset, columns_to_normalise):\n",
    "    \n",
    "    scaler = preprocessing.MinMaxScaler()\n",
    "    \n",
    "    for column in columns_to_normalise:\n",
    "        dataset[column] = scaler.fit_transform(dataset[column].values.reshape(-1, 1))\n",
    "      \n",
    "    return dataset\n",
    "\n",
    "dataset = normaliseColumnValues(dataset, ['Pclass', 'Sex', 'Age', 'SibSp', 'Parch', 'Fare', 'Embarked'])\n",
    "\n",
    "print('Data set sample after Normalising')\n",
    "display(dataset.head(5))\n"
   ]
  },
  {
   "cell_type": "markdown",
   "metadata": {},
   "source": [
    "### Summery of course Pre-Processing:\n",
    "\n",
    "    Distribution of classes: 38%\n",
    "    \n",
    "    Missing Data:\n",
    "    Cabin varible was missing in 77% of examples and so was dropped\n",
    "    Embarked varible was missing in 0.2% of examples, these examples were dropped\n",
    "    Age variable was missing in 20% of examples, Interpolation was used to replace missing values with the average age\n",
    "    \n",
    "    Non-numeroic Data:\n",
    "    Sex was integer encoded, 0 for male, 1 for female\n",
    "    Integer encoding used for embarked\n",
    "    \n",
    "    "
   ]
  },
  {
   "cell_type": "markdown",
   "metadata": {},
   "source": [
    "## Spot check\n",
    "\n",
    "A spot check is performed to get an idea of which algorithms will work best with this dataset. This will not decide the final algorithm used but is useful in finding which algorithms to start testing on and gives a baseline for prediction accuracy. As the dataset is quite small, calculation time is not a factor and so the spot check will concentrate on accuracy.\n",
    "\n",
    "A corse run of pre-processing is performed to allow the dataset to be used in the spot check."
   ]
  },
  {
   "cell_type": "code",
   "execution_count": 3,
   "metadata": {
    "collapsed": true
   },
   "outputs": [],
   "source": [
    "#### Testing Parameters\n",
    "\n",
    "validation_size = 0.20\n",
    "#Random seed for algorithms is kept constant to make results comparable\n",
    "seed = 2\n",
    "models = []\n",
    "models.append(('LR', LogisticRegression()))\n",
    "models.append(('LDA', LinearDiscriminantAnalysis()))\n",
    "models.append(('KNN', KNeighborsClassifier()))\n",
    "models.append(('CART', DecisionTreeClassifier()))\n",
    "models.append(('SVM', SVC()))\n",
    "models.append(('NB', GaussianNB()))\n",
    "\n",
    "model_names = ['LR', 'LDA', 'KNN', 'CART', 'NB', 'SVM']"
   ]
  },
  {
   "cell_type": "code",
   "execution_count": 4,
   "metadata": {
    "collapsed": true
   },
   "outputs": [],
   "source": [
    "# Useful functions\n",
    "\n",
    "## Split Predictors and target\n",
    "\n",
    "def splitPredictorTarget(dataset, target_name):\n",
    "    \n",
    "    X = dataset.loc[:, dataset.columns != target_name]\n",
    "    Y = dataset[['Survived']].dropna()\n",
    "    \n",
    "    return X, Y;\n",
    "\n",
    "from sklearn import model_selection\n",
    "\n",
    "## Algorithm Spot Check\n",
    "# Performs K-fold cross validation for each ML model\n",
    "def spotCheck(X, Y, models, val_size, seed):\n",
    "\n",
    "    X_train, X_validation, Y_train, Y_validation = model_selection.train_test_split(X, Y, test_size=val_size, random_state=seed)\n",
    "\n",
    "    # evaluate each model in turn\n",
    "    results = []\n",
    "    result_means = []\n",
    "    resultStd = []\n",
    "    names = []\n",
    "    \n",
    "    print('\\nCross Validation with verification set\\n')\n",
    "    \n",
    "    for name, model in models:\n",
    "        kfold = model_selection.KFold(n_splits=10, random_state=seed)\n",
    "        cv_results = model_selection.cross_val_score(model, X_train, Y_train.values.ravel(), cv=kfold, scoring='accuracy')\n",
    "        results.append(cv_results)\n",
    "        result_means.append(cv_results.mean())\n",
    "        names.append(name)\n",
    "        msg = \"%s: %f (%f)\" % (name, cv_results.mean(), cv_results.std())\n",
    "        print(msg)\n",
    "        \n",
    "    print('\\n')\n",
    "    \n",
    "    #inner_cv = KFold(n_splits=4, shuffle=True, random_state=i)\n",
    "    \n",
    "    return results, result_means;\n",
    "\n",
    "#Plot the amount each models accuracy has improved from an original data set\n",
    "def plotModelImprovement(processed_dataset, target, models, validation_size, seed, original_result_means, title):\n",
    "    \n",
    "    displayTitle = title.replace('_', ' ')\n",
    "    \n",
    "    [X,Y] = splitPredictorTarget(dataset, target)\n",
    "\n",
    "    [results, result_means] = spotCheck(X, Y, models, validation_size, seed)\n",
    "\n",
    "    improvement = (np.asarray(result_means) - np.asarray( original_result_means))*100\n",
    "\n",
    "    improvement_ds = pd.DataFrame(columns = [['improvement']], index = model_names, data = improvement)\n",
    "    improvement_ds.plot.bar(legend = False, title = displayTitle, ylim = [-5, 5])\n",
    "    \n",
    "    plt.savefig(title)\n",
    "    return\n",
    "\n",
    "# function to find the percentage of people who survived against a given variable then plot\n",
    "def findPercentageSurvived(variable, dataset, class_order, plot):\n",
    "    survived_percentages = []\n",
    "    classes = dataset[variable].unique()\n",
    "\n",
    "    for var in classes:\n",
    "        survival_split = dataset.Survived[dataset[variable] == var].value_counts()\n",
    "\n",
    "        if survival_split.size == 1:\n",
    "            survived_percentages.append(survival_split.keys()[0]*100)\n",
    "        else:\n",
    "            survived_percentages.append((survival_split[1]/(survival_split[0]+survival_split[1]))*100)\n",
    "\n",
    "    data = np.array(survived_percentages).T\n",
    "    variable_survived = pd.DataFrame(data = data, index = classes, columns = ['% Survived'])\n",
    "    \n",
    "    if class_order != None:\n",
    "        variable_survived = variable_survived.reindex(class_order)\n",
    "    else:\n",
    "        variable_survived = variable_survived.sort_values(by='% Survived')\n",
    "    \n",
    "    if plot == True:\n",
    "        variable_survived.plot(kind='bar', title = 'Percentage Survived by Passenger ' + variable,legend=False,  figsize=(15, 5))\n",
    "        plt.savefig('Percentage_Survived_by_Passenger_' + variable)\n",
    "    return variable_survived"
   ]
  },
  {
   "cell_type": "code",
   "execution_count": 5,
   "metadata": {},
   "outputs": [
    {
     "name": "stdout",
     "output_type": "stream",
     "text": [
      "\n",
      "Cross Validation with verification set\n",
      "\n",
      "LR: 0.791686 (0.057233)\n",
      "LDA: 0.795892 (0.062976)\n",
      "KNN: 0.786072 (0.063803)\n",
      "CART: 0.789045 (0.033803)\n",
      "SVM: 0.781866 (0.052348)\n",
      "NB: 0.795931 (0.047961)\n",
      "\n",
      "\n"
     ]
    }
   ],
   "source": [
    "#Perform spot check\n",
    "\n",
    "[X,Y] = splitPredictorTarget(dataset, 'Survived')\n",
    "[coarse_results, coarse_result_means] = spotCheck(X, Y, models,  validation_size, seed)"
   ]
  },
  {
   "cell_type": "markdown",
   "metadata": {},
   "source": [
    "LR and LDA produce the best results and provide a basline accuracy of approximately 80%.\n",
    "Collinear variable warnings are produced due to the one hot encoding method as these variables will be directly correlated."
   ]
  },
  {
   "cell_type": "markdown",
   "metadata": {},
   "source": [
    "# Detailed Pre-Processing\n",
    "\n",
    "The data will now be processed in far more detail. The number of variables in this dataset is small so detailed analysis will be performed on each one in turn.\n",
    "Using pandas and scikit-learn it is fairly easy to determine a correlation using correlation functions and plots, however, this project will also produce a more easily interpretable percentage survived plot to help understanding. Hopefully, this will also allow other patterns to be spotted in the data as well."
   ]
  },
  {
   "cell_type": "code",
   "execution_count": 6,
   "metadata": {
    "collapsed": true
   },
   "outputs": [],
   "source": [
    "# Reload Dataset\n",
    "dataset = pd.read_csv('C:/Users/Programming/Desktop/train.csv')"
   ]
  },
  {
   "cell_type": "markdown",
   "metadata": {},
   "source": [
    "## Passenger Class\n",
    "\n",
    "Passenger class was likely to determin the location of passengers cabins. Those placed closer to the deck would have a higher chance of survival and so this variable should be correlated with survival."
   ]
  },
  {
   "cell_type": "code",
   "execution_count": 7,
   "metadata": {},
   "outputs": [
    {
     "name": "stdout",
     "output_type": "stream",
     "text": [
      "Correlation between Percentage Survived and Pclass:  [[-0.33848104]]\n"
     ]
    },
    {
     "data": {
      "image/png": "[encoded data removed]",
      "text/plain": [
       "<matplotlib.figure.Figure at 0x1e762ae6198>"
      ]
     },
     "metadata": {},
     "output_type": "display_data"
    }
   ],
   "source": [
    "# Visualise Correlation\n",
    "findPercentageSurvived('Pclass', dataset, None, True);\n",
    "\n",
    "# Confirm that Pclass has a correlation with survival\n",
    "print('Correlation between Percentage Survived and Pclass: ' , dataset.corr().loc[['Pclass'], ['Survived']].values)\n",
    "\n"
   ]
  },
  {
   "cell_type": "markdown",
   "metadata": {},
   "source": [
    "This shows a significant correlation between survival and Passenger class"
   ]
  },
  {
   "cell_type": "markdown",
   "metadata": {},
   "source": [
    "## Passenger Name\n",
    "\n",
    "passengers names themselves are unlikely to be a good predictor and would be difficult to encode, however, passengers titles may provide usefull information."
   ]
  },
  {
   "cell_type": "code",
   "execution_count": 8,
   "metadata": {},
   "outputs": [
    {
     "name": "stdout",
     "output_type": "stream",
     "text": [
      "Mr              517\n",
      "Miss            182\n",
      "Mrs             125\n",
      "Master           40\n",
      "Dr                7\n",
      "Rev               6\n",
      "Col               2\n",
      "Mlle              2\n",
      "Major             2\n",
      "Ms                1\n",
      "Capt              1\n",
      "the Countess      1\n",
      "Lady              1\n",
      "Don               1\n",
      "Sir               1\n",
      "Jonkheer          1\n",
      "Mme               1\n",
      "Name: Title, dtype: int64\n"
     ]
    },
    {
     "data": {
      "image/png": "[encoded data removed]",
      "text/plain": [
       "<matplotlib.figure.Figure at 0x1e76299fda0>"
      ]
     },
     "metadata": {},
     "output_type": "display_data"
    }
   ],
   "source": [
    "# Reload Dataset\n",
    "dataset = pd.read_csv('C:/Users/Programming/Desktop/train.csv')\n",
    "\n",
    "# Replace Name predictor with Titles\n",
    "dataset['Name'] = dataset['Name'].map(lambda x: x.split(',')[1].split('.')[0].strip())\n",
    "dataset=dataset.rename(columns = {'two':'new_name'})\n",
    "dataset = dataset.rename(columns = {'Name':'Title'})\n",
    "\n",
    "# Visualise Correlation\n",
    "findPercentageSurvived('Title', dataset, None, True);\n",
    "\n",
    "# Unbalenced values could cause problems\n",
    "print(dataset.Title.value_counts())\n",
    "\n"
   ]
  },
  {
   "cell_type": "code",
   "execution_count": 9,
   "metadata": {},
   "outputs": [
    {
     "data": {
      "text/html": [
       "<div>\n",
       "<style>\n",
       "    .dataframe thead tr:only-child th {\n",
       "        text-align: right;\n",
       "    }\n",
       "\n",
       "    .dataframe thead th {\n",
       "        text-align: left;\n",
       "    }\n",
       "\n",
       "    .dataframe tbody tr th {\n",
       "        vertical-align: top;\n",
       "    }\n",
       "</style>\n",
       "<table border=\"1\" class=\"dataframe\">\n",
       "  <thead>\n",
       "    <tr style=\"text-align: right;\">\n",
       "      <th></th>\n",
       "      <th>Survived</th>\n",
       "      <th>Pclass</th>\n",
       "      <th>Title</th>\n",
       "      <th>Sex</th>\n",
       "      <th>Age</th>\n",
       "      <th>SibSp</th>\n",
       "      <th>Parch</th>\n",
       "      <th>Fare</th>\n",
       "      <th>Embarked</th>\n",
       "    </tr>\n",
       "  </thead>\n",
       "  <tbody>\n",
       "    <tr>\n",
       "      <th>0</th>\n",
       "      <td>0</td>\n",
       "      <td>3</td>\n",
       "      <td>11</td>\n",
       "      <td>0</td>\n",
       "      <td>22.0</td>\n",
       "      <td>1</td>\n",
       "      <td>0</td>\n",
       "      <td>7.2500</td>\n",
       "      <td>2</td>\n",
       "    </tr>\n",
       "    <tr>\n",
       "      <th>1</th>\n",
       "      <td>1</td>\n",
       "      <td>1</td>\n",
       "      <td>12</td>\n",
       "      <td>1</td>\n",
       "      <td>38.0</td>\n",
       "      <td>1</td>\n",
       "      <td>0</td>\n",
       "      <td>71.2833</td>\n",
       "      <td>0</td>\n",
       "    </tr>\n",
       "    <tr>\n",
       "      <th>2</th>\n",
       "      <td>1</td>\n",
       "      <td>3</td>\n",
       "      <td>8</td>\n",
       "      <td>1</td>\n",
       "      <td>26.0</td>\n",
       "      <td>0</td>\n",
       "      <td>0</td>\n",
       "      <td>7.9250</td>\n",
       "      <td>2</td>\n",
       "    </tr>\n",
       "    <tr>\n",
       "      <th>3</th>\n",
       "      <td>1</td>\n",
       "      <td>1</td>\n",
       "      <td>12</td>\n",
       "      <td>1</td>\n",
       "      <td>35.0</td>\n",
       "      <td>1</td>\n",
       "      <td>0</td>\n",
       "      <td>53.1000</td>\n",
       "      <td>2</td>\n",
       "    </tr>\n",
       "    <tr>\n",
       "      <th>4</th>\n",
       "      <td>0</td>\n",
       "      <td>3</td>\n",
       "      <td>11</td>\n",
       "      <td>0</td>\n",
       "      <td>35.0</td>\n",
       "      <td>0</td>\n",
       "      <td>0</td>\n",
       "      <td>8.0500</td>\n",
       "      <td>2</td>\n",
       "    </tr>\n",
       "  </tbody>\n",
       "</table>\n",
       "</div>"
      ],
      "text/plain": [
       "   Survived  Pclass  Title  Sex   Age  SibSp  Parch     Fare  Embarked\n",
       "0         0       3     11    0  22.0      1      0   7.2500         2\n",
       "1         1       1     12    1  38.0      1      0  71.2833         0\n",
       "2         1       3      8    1  26.0      0      0   7.9250         2\n",
       "3         1       1     12    1  35.0      1      0  53.1000         2\n",
       "4         0       3     11    0  35.0      0      0   8.0500         2"
      ]
     },
     "metadata": {},
     "output_type": "display_data"
    },
    {
     "name": "stderr",
     "output_type": "stream",
     "text": [
      "C:\\Users\\Programming\\Anaconda3\\lib\\site-packages\\sklearn\\utils\\validation.py:475: DataConversionWarning: Data with input dtype int64 was converted to float64 by MinMaxScaler.\n",
      "  warnings.warn(msg, DataConversionWarning)\n"
     ]
    },
    {
     "name": "stdout",
     "output_type": "stream",
     "text": [
      "\n",
      "Cross Validation with verification set\n",
      "\n",
      "LR: 0.794523 (0.055608)\n",
      "LDA: 0.794503 (0.059737)\n",
      "KNN: 0.795951 (0.054164)\n",
      "CART: 0.777739 (0.038914)\n",
      "SVM: 0.786072 (0.055845)\n",
      "NB: 0.784722 (0.046593)\n",
      "\n",
      "\n"
     ]
    },
    {
     "data": {
      "image/png": "[encoded data removed]",
      "text/plain": [
       "<matplotlib.figure.Figure at 0x1e763175c50>"
      ]
     },
     "metadata": {},
     "output_type": "display_data"
    }
   ],
   "source": [
    "# spot check\n",
    "# Perform course pre processing but keep title column\n",
    "dataset.drop(['PassengerId'], axis = 1, inplace = True)\n",
    "dataset.drop(['Ticket'], axis = 1, inplace = True)\n",
    "#### Deal with missing Data\n",
    "dataset.drop(['Cabin'], axis = 1, inplace = True)\n",
    "dataset = dataset[pd.notnull(dataset['Embarked'])]\n",
    "dataset[['Age']] = Imputer().fit_transform(dataset[['Age']].values)\n",
    "dataset[['Sex']] = dataset[['Sex']].replace('male', 0)\n",
    "dataset[['Sex']] = dataset[['Sex']].replace('female', 1)\n",
    "\n",
    "# use integer encoding for embarked\n",
    "le = preprocessing.LabelEncoder()\n",
    "dataset['Embarked'] = le.fit_transform(dataset['Embarked'])\n",
    "\n",
    "# Copy dataset for later testing\n",
    "title_dataset = dataset.copy()\n",
    "\n",
    "# use integer encoding for Title\n",
    "le = preprocessing.LabelEncoder()\n",
    "dataset['Title'] = le.fit_transform(dataset['Title'])\n",
    "\n",
    "display(dataset.head(5))\n",
    "\n",
    "# Normalise Data\n",
    "dataset = normaliseColumnValues(dataset, ['Title', 'Age', 'SibSp', 'Parch', 'Fare', 'Embarked'])\n",
    "\n",
    "plotModelImprovement(dataset, 'Survived', models, validation_size, seed, coarse_result_means, 'Percentage_Increase_in_Accuracy_with_Title_Variable_Using_IE')"
   ]
  },
  {
   "cell_type": "markdown",
   "metadata": {},
   "source": [
    "Try rearanging integer encoding so that the magnitude of encoding has a relatively linear relationship with survival chance:"
   ]
  },
  {
   "cell_type": "code",
   "execution_count": 10,
   "metadata": {
    "scrolled": true
   },
   "outputs": [
    {
     "data": {
      "text/html": [
       "<div>\n",
       "<style>\n",
       "    .dataframe thead tr:only-child th {\n",
       "        text-align: right;\n",
       "    }\n",
       "\n",
       "    .dataframe thead th {\n",
       "        text-align: left;\n",
       "    }\n",
       "\n",
       "    .dataframe tbody tr th {\n",
       "        vertical-align: top;\n",
       "    }\n",
       "</style>\n",
       "<table border=\"1\" class=\"dataframe\">\n",
       "  <thead>\n",
       "    <tr style=\"text-align: right;\">\n",
       "      <th></th>\n",
       "      <th>Survived</th>\n",
       "      <th>Pclass</th>\n",
       "      <th>Title</th>\n",
       "      <th>Sex</th>\n",
       "      <th>Age</th>\n",
       "      <th>SibSp</th>\n",
       "      <th>Parch</th>\n",
       "      <th>Fare</th>\n",
       "      <th>Embarked</th>\n",
       "    </tr>\n",
       "  </thead>\n",
       "  <tbody>\n",
       "    <tr>\n",
       "      <th>0</th>\n",
       "      <td>0</td>\n",
       "      <td>3</td>\n",
       "      <td>1</td>\n",
       "      <td>0</td>\n",
       "      <td>22.0</td>\n",
       "      <td>1</td>\n",
       "      <td>0</td>\n",
       "      <td>7.2500</td>\n",
       "      <td>2</td>\n",
       "    </tr>\n",
       "    <tr>\n",
       "      <th>1</th>\n",
       "      <td>1</td>\n",
       "      <td>1</td>\n",
       "      <td>6</td>\n",
       "      <td>1</td>\n",
       "      <td>38.0</td>\n",
       "      <td>1</td>\n",
       "      <td>0</td>\n",
       "      <td>71.2833</td>\n",
       "      <td>0</td>\n",
       "    </tr>\n",
       "    <tr>\n",
       "      <th>2</th>\n",
       "      <td>1</td>\n",
       "      <td>3</td>\n",
       "      <td>5</td>\n",
       "      <td>1</td>\n",
       "      <td>26.0</td>\n",
       "      <td>0</td>\n",
       "      <td>0</td>\n",
       "      <td>7.9250</td>\n",
       "      <td>2</td>\n",
       "    </tr>\n",
       "    <tr>\n",
       "      <th>3</th>\n",
       "      <td>1</td>\n",
       "      <td>1</td>\n",
       "      <td>6</td>\n",
       "      <td>1</td>\n",
       "      <td>35.0</td>\n",
       "      <td>1</td>\n",
       "      <td>0</td>\n",
       "      <td>53.1000</td>\n",
       "      <td>2</td>\n",
       "    </tr>\n",
       "    <tr>\n",
       "      <th>4</th>\n",
       "      <td>0</td>\n",
       "      <td>3</td>\n",
       "      <td>1</td>\n",
       "      <td>0</td>\n",
       "      <td>35.0</td>\n",
       "      <td>0</td>\n",
       "      <td>0</td>\n",
       "      <td>8.0500</td>\n",
       "      <td>2</td>\n",
       "    </tr>\n",
       "  </tbody>\n",
       "</table>\n",
       "</div>"
      ],
      "text/plain": [
       "   Survived  Pclass  Title  Sex   Age  SibSp  Parch     Fare  Embarked\n",
       "0         0       3      1    0  22.0      1      0   7.2500         2\n",
       "1         1       1      6    1  38.0      1      0  71.2833         0\n",
       "2         1       3      5    1  26.0      0      0   7.9250         2\n",
       "3         1       1      6    1  35.0      1      0  53.1000         2\n",
       "4         0       3      1    0  35.0      0      0   8.0500         2"
      ]
     },
     "metadata": {},
     "output_type": "display_data"
    },
    {
     "name": "stderr",
     "output_type": "stream",
     "text": [
      "C:\\Users\\Programming\\Anaconda3\\lib\\site-packages\\sklearn\\utils\\validation.py:475: DataConversionWarning: Data with input dtype int64 was converted to float64 by MinMaxScaler.\n",
      "  warnings.warn(msg, DataConversionWarning)\n"
     ]
    },
    {
     "name": "stdout",
     "output_type": "stream",
     "text": [
      "\n",
      "Cross Validation with verification set\n",
      "\n",
      "LR: 0.815591 (0.055635)\n",
      "LDA: 0.829675 (0.057019)\n",
      "KNN: 0.800137 (0.059257)\n",
      "CART: 0.787539 (0.052732)\n",
      "SVM: 0.793095 (0.054840)\n",
      "NB: 0.802934 (0.056222)\n",
      "\n",
      "\n"
     ]
    },
    {
     "data": {
      "image/png": "[encoded data removed]",
      "text/plain": [
       "<matplotlib.figure.Figure at 0x1e763175e10>"
      ]
     },
     "metadata": {},
     "output_type": "display_data"
    }
   ],
   "source": [
    "\n",
    "dataset = title_dataset.copy()\n",
    "\n",
    "replacement = {\n",
    "    'Don': 0,\n",
    "    'Rev': 0,\n",
    "    'Jonkheer': 0,\n",
    "    'Capt': 0,\n",
    "    'Mr': 1,\n",
    "    'Dr': 2,\n",
    "    'Col': 3,\n",
    "    'Major': 3,\n",
    "    'Master': 4,\n",
    "    'Miss': 5,\n",
    "    'Mrs': 6,\n",
    "    'Mme': 7,\n",
    "    'Ms': 7,\n",
    "    'Mlle': 7,\n",
    "    'Sir': 7,\n",
    "    'Lady': 7,\n",
    "    'the Countess': 7\n",
    "}\n",
    "\n",
    "dataset['Title'] = dataset['Title'].apply(lambda x: replacement.get(x))\n",
    "\n",
    "display(dataset.head(5))\n",
    "\n",
    "dataset = normaliseColumnValues(dataset, ['Title', 'Age', 'SibSp', 'Parch', 'Fare', 'Embarked'])\n",
    "\n",
    "plotModelImprovement(dataset, 'Survived', models, validation_size, seed, coarse_result_means, 'Percentage_Increase_in_Accuracy_with_Title_Variable_Using_CIE')"
   ]
  },
  {
   "cell_type": "markdown",
   "metadata": {},
   "source": [
    "Try encoding using one-hot encoding which will allow algorithms to use each title as a separqate variable"
   ]
  },
  {
   "cell_type": "code",
   "execution_count": 11,
   "metadata": {},
   "outputs": [
    {
     "name": "stderr",
     "output_type": "stream",
     "text": [
      "C:\\Users\\Programming\\Anaconda3\\lib\\site-packages\\sklearn\\utils\\validation.py:475: DataConversionWarning: Data with input dtype uint8 was converted to float64 by MinMaxScaler.\n",
      "  warnings.warn(msg, DataConversionWarning)\n",
      "C:\\Users\\Programming\\Anaconda3\\lib\\site-packages\\sklearn\\utils\\validation.py:475: DataConversionWarning: Data with input dtype int64 was converted to float64 by MinMaxScaler.\n",
      "  warnings.warn(msg, DataConversionWarning)\n"
     ]
    },
    {
     "name": "stdout",
     "output_type": "stream",
     "text": [
      "\n",
      "Cross Validation with verification set\n",
      "\n",
      "LR: 0.825450 (0.058655)\n"
     ]
    },
    {
     "name": "stderr",
     "output_type": "stream",
     "text": [
      "C:\\Users\\Programming\\Anaconda3\\lib\\site-packages\\sklearn\\discriminant_analysis.py:388: UserWarning: Variables are collinear.\n",
      "  warnings.warn(\"Variables are collinear.\")\n",
      "C:\\Users\\Programming\\Anaconda3\\lib\\site-packages\\sklearn\\discriminant_analysis.py:388: UserWarning: Variables are collinear.\n",
      "  warnings.warn(\"Variables are collinear.\")\n",
      "C:\\Users\\Programming\\Anaconda3\\lib\\site-packages\\sklearn\\discriminant_analysis.py:388: UserWarning: Variables are collinear.\n",
      "  warnings.warn(\"Variables are collinear.\")\n",
      "C:\\Users\\Programming\\Anaconda3\\lib\\site-packages\\sklearn\\discriminant_analysis.py:388: UserWarning: Variables are collinear.\n",
      "  warnings.warn(\"Variables are collinear.\")\n",
      "C:\\Users\\Programming\\Anaconda3\\lib\\site-packages\\sklearn\\discriminant_analysis.py:388: UserWarning: Variables are collinear.\n",
      "  warnings.warn(\"Variables are collinear.\")\n",
      "C:\\Users\\Programming\\Anaconda3\\lib\\site-packages\\sklearn\\discriminant_analysis.py:388: UserWarning: Variables are collinear.\n",
      "  warnings.warn(\"Variables are collinear.\")\n",
      "C:\\Users\\Programming\\Anaconda3\\lib\\site-packages\\sklearn\\discriminant_analysis.py:388: UserWarning: Variables are collinear.\n",
      "  warnings.warn(\"Variables are collinear.\")\n",
      "C:\\Users\\Programming\\Anaconda3\\lib\\site-packages\\sklearn\\discriminant_analysis.py:388: UserWarning: Variables are collinear.\n",
      "  warnings.warn(\"Variables are collinear.\")\n",
      "C:\\Users\\Programming\\Anaconda3\\lib\\site-packages\\sklearn\\discriminant_analysis.py:388: UserWarning: Variables are collinear.\n",
      "  warnings.warn(\"Variables are collinear.\")\n",
      "C:\\Users\\Programming\\Anaconda3\\lib\\site-packages\\sklearn\\discriminant_analysis.py:388: UserWarning: Variables are collinear.\n",
      "  warnings.warn(\"Variables are collinear.\")\n"
     ]
    },
    {
     "name": "stdout",
     "output_type": "stream",
     "text": [
      "LDA: 0.831064 (0.064986)\n",
      "KNN: 0.804382 (0.056728)\n",
      "CART: 0.791784 (0.046406)\n",
      "SVM: 0.784644 (0.059376)\n",
      "NB: 0.611737 (0.147914)\n",
      "\n",
      "\n"
     ]
    },
    {
     "data": {
      "image/png": "[encoded data removed]",
      "text/plain": [
       "<matplotlib.figure.Figure at 0x1e75ec33b70>"
      ]
     },
     "metadata": {},
     "output_type": "display_data"
    }
   ],
   "source": [
    "dataset = title_dataset.copy()\n",
    "\n",
    "one_hot = pd.get_dummies(dataset['Title'])\n",
    "dataset.drop(['Title'], axis = 1, inplace = True)\n",
    "dataset = dataset.join(one_hot)\n",
    "\n",
    "all_titles_to_normalise = np.append(one_hot.columns.values, ['Age', 'SibSp', 'Parch', 'Fare', 'Embarked', 'Pclass'])\n",
    "\n",
    "dataset = normaliseColumnValues(dataset, all_titles_to_normalise)\n",
    "\n",
    "plotModelImprovement(dataset, 'Survived', models, validation_size, seed, coarse_result_means, 'Percentage_Increase_in_Accuracy_with_Title_Variable_Using_OHE')"
   ]
  },
  {
   "cell_type": "markdown",
   "metadata": {},
   "source": [
    "## Passenger Gender\n",
    "\n",
    "Women and children were allowed onto lifeboats first and so sex should provide information on survival rate"
   ]
  },
  {
   "cell_type": "code",
   "execution_count": 12,
   "metadata": {},
   "outputs": [
    {
     "name": "stdout",
     "output_type": "stream",
     "text": [
      "   Sex\n",
      "0    1\n",
      "1    0\n",
      "2    0\n",
      "3    0\n",
      "4    1\n",
      "5    1\n",
      "6    1 \n",
      "\n",
      "Correlation between Percentage Survived and Sex:  [[-0.54335138]]\n"
     ]
    },
    {
     "data": {
      "image/png": "[encoded data removed]",
      "text/plain": [
       "<matplotlib.figure.Figure at 0x1e762f92358>"
      ]
     },
     "metadata": {},
     "output_type": "display_data"
    }
   ],
   "source": [
    "# Reload Dataset\n",
    "dataset = pd.read_csv('C:/Users/Programming/Desktop/train.csv')\n",
    "\n",
    "# Visualise Correlation\n",
    "findPercentageSurvived('Sex', dataset, None, True);\n",
    "\n",
    "#Sex is non numeric, as there are only 2 classes we can swap male and female for 0 and 1. \n",
    "le = preprocessing.LabelEncoder()\n",
    "dataset['Sex'] = le.fit_transform(dataset['Sex'])\n",
    "\n",
    "print(dataset[['Sex']].head(7), '\\n')\n",
    "\n",
    "# Confirm that Pclass has a correlation with survival\n",
    "print('Correlation between Percentage Survived and Sex: ' , dataset.corr().loc[['Sex'], ['Survived']].values)"
   ]
  },
  {
   "cell_type": "markdown",
   "metadata": {},
   "source": [
    "This shows a very significant correlation between survival and Passenger Title"
   ]
  },
  {
   "cell_type": "markdown",
   "metadata": {},
   "source": [
    "## Passenger Age\n",
    "\n",
    "Women and children were allowed onto lifeboats first and so age should provide information on survival rate"
   ]
  },
  {
   "cell_type": "code",
   "execution_count": 13,
   "metadata": {},
   "outputs": [
    {
     "name": "stdout",
     "output_type": "stream",
     "text": [
      "\n",
      "Cross Validation with verification set\n",
      "\n",
      "LR: 0.795912 (0.052315)\n",
      "LDA: 0.791686 (0.054390)\n",
      "KNN: 0.748181 (0.060440)\n",
      "CART: 0.779206 (0.039721)\n",
      "SVM: 0.748122 (0.062813)\n",
      "NB: 0.793114 (0.048709)\n",
      "\n",
      "\n"
     ]
    },
    {
     "data": {
      "image/png": "[encoded data removed]",
      "text/plain": [
       "<matplotlib.figure.Figure at 0x1e762fd6e10>"
      ]
     },
     "metadata": {},
     "output_type": "display_data"
    }
   ],
   "source": [
    "# Reload Dataset\n",
    "dataset = pd.read_csv('C:/Users/Programming/Desktop/train.csv')\n",
    "\n",
    "# spot check withought Age to see its effect on performance\n",
    "# Perform course pre processing but keep title column\n",
    "dataset.drop(['PassengerId', 'Ticket', 'Name','Age'], axis = 1, inplace = True)\n",
    "#### Deal with missing Data\n",
    "dataset.drop(['Cabin'], axis = 1, inplace = True)\n",
    "dataset = dataset[pd.notnull(dataset['Embarked'])]\n",
    "dataset[['Sex']] = dataset[['Sex']].replace('male', 0)\n",
    "dataset[['Sex']] = dataset[['Sex']].replace('female', 1)\n",
    "# use integer encoding for embarked\n",
    "le = preprocessing.LabelEncoder()\n",
    "dataset['Embarked'] = le.fit_transform(dataset['Embarked'])\n",
    "\n",
    "plotModelImprovement(dataset, 'Survived', models, validation_size, seed, coarse_result_means, 'Percentage_Increase_in_Accuracy_without_Age')"
   ]
  },
  {
   "cell_type": "code",
   "execution_count": 14,
   "metadata": {},
   "outputs": [
    {
     "data": {
      "image/png": "[encoded data removed]",
      "text/plain": [
       "<matplotlib.figure.Figure at 0x1e763175a20>"
      ]
     },
     "metadata": {},
     "output_type": "display_data"
    }
   ],
   "source": [
    "# Reload Dataset\n",
    "dataset = pd.read_csv('C:/Users/Programming/Desktop/train.csv')\n",
    "\n",
    "# As above, the missing ages will be replaced by the average age.\n",
    "dataset[['Age']] = Imputer().fit_transform(dataset[['Age']].values)\n",
    "\n",
    "# Visualise Correlation\n",
    "# Group ages to see how grouping effects results\n",
    "age_bins = []\n",
    "age_group_names = []\n",
    "increment = 1;\n",
    "i = 0\n",
    "j = 0\n",
    "\n",
    "while i < 80:\n",
    "    age_bins.append(i)\n",
    "    j = i+increment\n",
    "    age_group_names.append('(' + str(i) + ',' + str(j) + ']')\n",
    "    i+=increment\n",
    "    \n",
    "age_bins.append(i+1)\n",
    "\n",
    "#age_bins = [0,2,4,6,8,10,12,14,16,18,20,30,40,50,60,70,80]\n",
    "#age_group_names=['(0,2]', '(2,4]', '(4,6]', '(6,8]', '(8,10]', '(10,12]', '(12,14]', '(14,16]', '(16,18]', '(18,20]', '(20,30]','(30,40]', '(40,50]', '(50,60]', '(60,70]', '(70,80]']\n",
    "dataset['Age_Group'] = pd.cut(dataset['Age'], age_bins, labels = age_group_names)\n",
    "\n",
    "percent_survived_data = findPercentageSurvived('Age_Group', dataset, age_group_names, True);\n",
    "\n",
    "\n"
   ]
  },
  {
   "cell_type": "markdown",
   "metadata": {},
   "source": [
    "This data would be well correlated to survival despite the odd dip in survival rates of children between 6 and 12. It seems that children between 6 and 12 are less likely to survive than adults."
   ]
  },
  {
   "cell_type": "code",
   "execution_count": 15,
   "metadata": {},
   "outputs": [
    {
     "name": "stdout",
     "output_type": "stream",
     "text": [
      "3    48\n",
      "2    17\n",
      "1     4\n",
      "Name: Pclass, dtype: int64\n",
      "Correlation between Age and Class:  [[-0.33133877]]\n"
     ]
    }
   ],
   "source": [
    "# Count the nummber of children under 12 for each passenger class\n",
    "\n",
    "print(dataset['Pclass'][(dataset['Age'] <= 12)].value_counts())\n",
    "\n",
    "# Show correlation between Pclass and age\n",
    "print('Correlation between Age and Class: ' , dataset.corr().loc[['Age'], ['Pclass']].values)"
   ]
  },
  {
   "cell_type": "markdown",
   "metadata": {},
   "source": [
    "From this quick analysis it can be seen that the majority of children were in 3rd class which has already been shown to greatly reduce survival chances. It is possible that very young children that could be carried easily were more likely to be taken onto lifeboats ad so had an increased chance of survival, however, older children would have been affected by the same negative factors as adults. This would explain the odd dip insurvival rates and also shows that age may be less of a factor in survival that would be expected.\n",
    "\n",
    "As using an encoding method that was linearly correlated with survival worked for Titles, I wanted to see how it would effect Age:"
   ]
  },
  {
   "cell_type": "code",
   "execution_count": 16,
   "metadata": {},
   "outputs": [
    {
     "name": "stderr",
     "output_type": "stream",
     "text": [
      "C:\\Users\\Programming\\Anaconda3\\lib\\site-packages\\sklearn\\utils\\validation.py:475: DataConversionWarning: Data with input dtype int64 was converted to float64 by MinMaxScaler.\n",
      "  warnings.warn(msg, DataConversionWarning)\n"
     ]
    },
    {
     "name": "stdout",
     "output_type": "stream",
     "text": [
      "\n",
      "Cross Validation with verification set\n",
      "\n",
      "LR: 0.822653 (0.045313)\n",
      "LDA: 0.822633 (0.046598)\n",
      "KNN: 0.798768 (0.050280)\n",
      "CART: 0.777719 (0.041457)\n",
      "SVM: 0.784664 (0.054863)\n",
      "NB: 0.818447 (0.044552)\n",
      "\n",
      "\n"
     ]
    },
    {
     "data": {
      "image/png": "[encoded data removed]",
      "text/plain": [
       "<matplotlib.figure.Figure at 0x1e763031908>"
      ]
     },
     "metadata": {},
     "output_type": "display_data"
    }
   ],
   "source": [
    "\n",
    "percent_survived_data = percent_survived_data.sort_values(by = '% Survived')\n",
    "i = 0;\n",
    "for group in percent_survived_data.index.values:\n",
    "    dataset.Age_Group = dataset.Age_Group.replace(group, i)\n",
    "    i+=1\n",
    "\n",
    "dataset.drop(['Age'], axis = 1, inplace = True)\n",
    "\n",
    "# spot check\n",
    "# Perform course pre processing but keep title column\n",
    "dataset.drop(['PassengerId', 'Ticket', 'Name'], axis = 1, inplace = True)\n",
    "#### Deal with missing Data\n",
    "dataset.drop(['Cabin'], axis = 1, inplace = True)\n",
    "dataset = dataset[pd.notnull(dataset['Embarked'])]\n",
    "dataset[['Sex']] = dataset[['Sex']].replace('male', 0)\n",
    "dataset[['Sex']] = dataset[['Sex']].replace('female', 1)\n",
    "# use integer encoding for embarked\n",
    "le = preprocessing.LabelEncoder()\n",
    "dataset['Embarked'] = le.fit_transform(dataset['Embarked'])\n",
    "\n",
    "#save to test one-hot after\n",
    "age_group_dataset = dataset.copy()\n",
    "\n",
    "dataset = normaliseColumnValues(dataset, ['Pclass', 'SibSp', 'Parch', 'Fare', 'Embarked', 'Age_Group'])\n",
    "\n",
    "plotModelImprovement(dataset, 'Survived', models, validation_size, seed, coarse_result_means, 'Percentage_Increase_in_Accuracy_with_Age_Group_Variable_Using_CIE')"
   ]
  },
  {
   "cell_type": "markdown",
   "metadata": {},
   "source": [
    "Interestingly this does generally increase the accuracy of the model. If the bin increments are decresed to 1 year, the largest gain in accuracy is seen. This is expected as in this case no information is lost i the grouping process. It seems that ordering the data helps algorithms to model the data. I would assume this is a similar effect to standardising normally distributed data."
   ]
  },
  {
   "cell_type": "code",
   "execution_count": 17,
   "metadata": {},
   "outputs": [
    {
     "data": {
      "text/html": [
       "<div>\n",
       "<style>\n",
       "    .dataframe thead tr:only-child th {\n",
       "        text-align: right;\n",
       "    }\n",
       "\n",
       "    .dataframe thead th {\n",
       "        text-align: left;\n",
       "    }\n",
       "\n",
       "    .dataframe tbody tr th {\n",
       "        vertical-align: top;\n",
       "    }\n",
       "</style>\n",
       "<table border=\"1\" class=\"dataframe\">\n",
       "  <thead>\n",
       "    <tr style=\"text-align: right;\">\n",
       "      <th></th>\n",
       "      <th>Survived</th>\n",
       "      <th>Pclass</th>\n",
       "      <th>Sex</th>\n",
       "      <th>SibSp</th>\n",
       "      <th>Parch</th>\n",
       "      <th>Fare</th>\n",
       "      <th>Embarked</th>\n",
       "      <th>0</th>\n",
       "      <th>1</th>\n",
       "      <th>2</th>\n",
       "      <th>...</th>\n",
       "      <th>60</th>\n",
       "      <th>61</th>\n",
       "      <th>62</th>\n",
       "      <th>63</th>\n",
       "      <th>64</th>\n",
       "      <th>65</th>\n",
       "      <th>66</th>\n",
       "      <th>67</th>\n",
       "      <th>68</th>\n",
       "      <th>69</th>\n",
       "    </tr>\n",
       "  </thead>\n",
       "  <tbody>\n",
       "    <tr>\n",
       "      <th>0</th>\n",
       "      <td>0</td>\n",
       "      <td>3</td>\n",
       "      <td>0</td>\n",
       "      <td>1</td>\n",
       "      <td>0</td>\n",
       "      <td>7.2500</td>\n",
       "      <td>2</td>\n",
       "      <td>0</td>\n",
       "      <td>0</td>\n",
       "      <td>0</td>\n",
       "      <td>...</td>\n",
       "      <td>0</td>\n",
       "      <td>0</td>\n",
       "      <td>0</td>\n",
       "      <td>0</td>\n",
       "      <td>0</td>\n",
       "      <td>0</td>\n",
       "      <td>0</td>\n",
       "      <td>0</td>\n",
       "      <td>0</td>\n",
       "      <td>0</td>\n",
       "    </tr>\n",
       "    <tr>\n",
       "      <th>1</th>\n",
       "      <td>1</td>\n",
       "      <td>1</td>\n",
       "      <td>1</td>\n",
       "      <td>1</td>\n",
       "      <td>0</td>\n",
       "      <td>71.2833</td>\n",
       "      <td>0</td>\n",
       "      <td>0</td>\n",
       "      <td>0</td>\n",
       "      <td>0</td>\n",
       "      <td>...</td>\n",
       "      <td>0</td>\n",
       "      <td>0</td>\n",
       "      <td>0</td>\n",
       "      <td>0</td>\n",
       "      <td>0</td>\n",
       "      <td>0</td>\n",
       "      <td>0</td>\n",
       "      <td>0</td>\n",
       "      <td>0</td>\n",
       "      <td>0</td>\n",
       "    </tr>\n",
       "    <tr>\n",
       "      <th>2</th>\n",
       "      <td>1</td>\n",
       "      <td>3</td>\n",
       "      <td>1</td>\n",
       "      <td>0</td>\n",
       "      <td>0</td>\n",
       "      <td>7.9250</td>\n",
       "      <td>2</td>\n",
       "      <td>0</td>\n",
       "      <td>0</td>\n",
       "      <td>0</td>\n",
       "      <td>...</td>\n",
       "      <td>0</td>\n",
       "      <td>0</td>\n",
       "      <td>0</td>\n",
       "      <td>0</td>\n",
       "      <td>0</td>\n",
       "      <td>0</td>\n",
       "      <td>0</td>\n",
       "      <td>0</td>\n",
       "      <td>0</td>\n",
       "      <td>0</td>\n",
       "    </tr>\n",
       "    <tr>\n",
       "      <th>3</th>\n",
       "      <td>1</td>\n",
       "      <td>1</td>\n",
       "      <td>1</td>\n",
       "      <td>1</td>\n",
       "      <td>0</td>\n",
       "      <td>53.1000</td>\n",
       "      <td>2</td>\n",
       "      <td>0</td>\n",
       "      <td>0</td>\n",
       "      <td>0</td>\n",
       "      <td>...</td>\n",
       "      <td>0</td>\n",
       "      <td>0</td>\n",
       "      <td>0</td>\n",
       "      <td>0</td>\n",
       "      <td>0</td>\n",
       "      <td>0</td>\n",
       "      <td>0</td>\n",
       "      <td>0</td>\n",
       "      <td>0</td>\n",
       "      <td>0</td>\n",
       "    </tr>\n",
       "    <tr>\n",
       "      <th>4</th>\n",
       "      <td>0</td>\n",
       "      <td>3</td>\n",
       "      <td>0</td>\n",
       "      <td>0</td>\n",
       "      <td>0</td>\n",
       "      <td>8.0500</td>\n",
       "      <td>2</td>\n",
       "      <td>0</td>\n",
       "      <td>0</td>\n",
       "      <td>0</td>\n",
       "      <td>...</td>\n",
       "      <td>0</td>\n",
       "      <td>0</td>\n",
       "      <td>0</td>\n",
       "      <td>0</td>\n",
       "      <td>0</td>\n",
       "      <td>0</td>\n",
       "      <td>0</td>\n",
       "      <td>0</td>\n",
       "      <td>0</td>\n",
       "      <td>0</td>\n",
       "    </tr>\n",
       "  </tbody>\n",
       "</table>\n",
       "<p>5 rows × 77 columns</p>\n",
       "</div>"
      ],
      "text/plain": [
       "   Survived  Pclass  Sex  SibSp  Parch     Fare  Embarked  0  1  2 ...  60  \\\n",
       "0         0       3    0      1      0   7.2500         2  0  0  0 ...   0   \n",
       "1         1       1    1      1      0  71.2833         0  0  0  0 ...   0   \n",
       "2         1       3    1      0      0   7.9250         2  0  0  0 ...   0   \n",
       "3         1       1    1      1      0  53.1000         2  0  0  0 ...   0   \n",
       "4         0       3    0      0      0   8.0500         2  0  0  0 ...   0   \n",
       "\n",
       "   61  62  63  64  65  66  67  68  69  \n",
       "0   0   0   0   0   0   0   0   0   0  \n",
       "1   0   0   0   0   0   0   0   0   0  \n",
       "2   0   0   0   0   0   0   0   0   0  \n",
       "3   0   0   0   0   0   0   0   0   0  \n",
       "4   0   0   0   0   0   0   0   0   0  \n",
       "\n",
       "[5 rows x 77 columns]"
      ]
     },
     "metadata": {},
     "output_type": "display_data"
    },
    {
     "name": "stderr",
     "output_type": "stream",
     "text": [
      "C:\\Users\\Programming\\Anaconda3\\lib\\site-packages\\sklearn\\utils\\validation.py:475: DataConversionWarning: Data with input dtype int64 was converted to float64 by MinMaxScaler.\n",
      "  warnings.warn(msg, DataConversionWarning)\n"
     ]
    },
    {
     "name": "stdout",
     "output_type": "stream",
     "text": [
      "\n",
      "Cross Validation with verification set\n",
      "\n",
      "LR: 0.822653 (0.045313)\n",
      "LDA: 0.822633 (0.046598)\n",
      "KNN: 0.798768 (0.050280)\n",
      "CART: 0.779167 (0.052403)\n",
      "SVM: 0.784664 (0.054863)\n",
      "NB: 0.818447 (0.044552)\n",
      "\n",
      "\n"
     ]
    },
    {
     "data": {
      "image/png": "[encoded data removed]",
      "text/plain": [
       "<matplotlib.figure.Figure at 0x1e762f556a0>"
      ]
     },
     "metadata": {},
     "output_type": "display_data"
    }
   ],
   "source": [
    "#Try one hot encoding Age_Group\n",
    "\n",
    "one_hot = pd.get_dummies(age_group_dataset['Age_Group'])\n",
    "age_group_dataset.drop(['Age_Group'], axis = 1, inplace = True)\n",
    "age_group_dataset = age_group_dataset.join(one_hot)\n",
    "\n",
    "display(age_group_dataset.head(5))\n",
    "\n",
    "all_titles_to_normalise =  ['SibSp', 'Parch', 'Fare', 'Embarked', 'Pclass']\n",
    "\n",
    "age_group_dataset = normaliseColumnValues(age_group_dataset, all_titles_to_normalise)\n",
    "\n",
    "plotModelImprovement(age_group_dataset, 'Survived', models, validation_size, seed, coarse_result_means, 'Percentage_Increase_in_Accuracy_with_Age_Group_Variable_Using_OHE')"
   ]
  },
  {
   "cell_type": "markdown",
   "metadata": {},
   "source": [
    "## Number of Siblings/Spouces"
   ]
  },
  {
   "cell_type": "code",
   "execution_count": 18,
   "metadata": {},
   "outputs": [
    {
     "data": {
      "image/png": "[encoded data removed]",
      "text/plain": [
       "<matplotlib.figure.Figure at 0x1e763198be0>"
      ]
     },
     "metadata": {},
     "output_type": "display_data"
    }
   ],
   "source": [
    "# Reload Dataset\n",
    "dataset = pd.read_csv('C:/Users/Programming/Desktop/train.csv')\n",
    "\n",
    "percent_survived_data = findPercentageSurvived('SibSp', dataset, [0,1,2,3,4,5,8], True);"
   ]
  },
  {
   "cell_type": "markdown",
   "metadata": {},
   "source": [
    "Try correclated integer encoding"
   ]
  },
  {
   "cell_type": "code",
   "execution_count": 19,
   "metadata": {},
   "outputs": [
    {
     "name": "stderr",
     "output_type": "stream",
     "text": [
      "C:\\Users\\Programming\\Anaconda3\\lib\\site-packages\\sklearn\\utils\\validation.py:475: DataConversionWarning: Data with input dtype int64 was converted to float64 by MinMaxScaler.\n",
      "  warnings.warn(msg, DataConversionWarning)\n"
     ]
    },
    {
     "name": "stdout",
     "output_type": "stream",
     "text": [
      "\n",
      "Cross Validation with verification set\n",
      "\n",
      "LR: 0.795912 (0.055979)\n",
      "LDA: 0.787461 (0.059836)\n",
      "KNN: 0.786131 (0.050174)\n",
      "CART: 0.791862 (0.024843)\n",
      "SVM: 0.781866 (0.052348)\n",
      "NB: 0.773474 (0.068174)\n",
      "\n",
      "\n"
     ]
    },
    {
     "data": {
      "image/png": "[encoded data removed]",
      "text/plain": [
       "<matplotlib.figure.Figure at 0x1e7631604a8>"
      ]
     },
     "metadata": {},
     "output_type": "display_data"
    }
   ],
   "source": [
    "# Try Correlated Integer Encoding\n",
    "\n",
    "dataset = pd.read_csv('C:/Users/Programming/Desktop/train.csv')\n",
    "\n",
    "percent_survived_data = percent_survived_data.sort_values(by = '% Survived')\n",
    "i = 0;\n",
    "for group in percent_survived_data.index.values:\n",
    "    dataset.SibSp = dataset.SibSp.replace(group, i)\n",
    "    i+=1\n",
    "\n",
    "# spot check\n",
    "# Perform course pre processing but keep title column\n",
    "dataset.drop(['PassengerId', 'Ticket', 'Name'], axis = 1, inplace = True)\n",
    "#### Deal with missing Data\n",
    "dataset.drop(['Cabin'], axis = 1, inplace = True)\n",
    "dataset = dataset[pd.notnull(dataset['Embarked'])]\n",
    "dataset[['Age']] = Imputer().fit_transform(dataset[['Age']].values)\n",
    "# use integer encoding for embarked\n",
    "le = preprocessing.LabelEncoder()\n",
    "dataset['Embarked'] = le.fit_transform(dataset['Embarked'])\n",
    "dataset[['Sex']] = dataset[['Sex']].replace('male', 0)\n",
    "dataset[['Sex']] = dataset[['Sex']].replace('female', 1)\n",
    "\n",
    "dataset = normaliseColumnValues(dataset, ['Pclass', 'SibSp', 'Parch', 'Fare', 'Embarked', 'Age'])\n",
    "\n",
    "plotModelImprovement(dataset, 'Survived', models, validation_size, seed, coarse_result_means, 'Percentage_Increase_in_Accuracy_with_SibSp_Variable_Using_CIE')"
   ]
  },
  {
   "cell_type": "code",
   "execution_count": 20,
   "metadata": {},
   "outputs": [
    {
     "name": "stderr",
     "output_type": "stream",
     "text": [
      "C:\\Users\\Programming\\Anaconda3\\lib\\site-packages\\sklearn\\utils\\validation.py:475: DataConversionWarning: Data with input dtype int64 was converted to float64 by MinMaxScaler.\n",
      "  warnings.warn(msg, DataConversionWarning)\n",
      "C:\\Users\\Programming\\Anaconda3\\lib\\site-packages\\sklearn\\discriminant_analysis.py:388: UserWarning: Variables are collinear.\n",
      "  warnings.warn(\"Variables are collinear.\")\n",
      "C:\\Users\\Programming\\Anaconda3\\lib\\site-packages\\sklearn\\discriminant_analysis.py:388: UserWarning: Variables are collinear.\n",
      "  warnings.warn(\"Variables are collinear.\")\n",
      "C:\\Users\\Programming\\Anaconda3\\lib\\site-packages\\sklearn\\discriminant_analysis.py:388: UserWarning: Variables are collinear.\n",
      "  warnings.warn(\"Variables are collinear.\")\n",
      "C:\\Users\\Programming\\Anaconda3\\lib\\site-packages\\sklearn\\discriminant_analysis.py:388: UserWarning: Variables are collinear.\n",
      "  warnings.warn(\"Variables are collinear.\")\n",
      "C:\\Users\\Programming\\Anaconda3\\lib\\site-packages\\sklearn\\discriminant_analysis.py:388: UserWarning: Variables are collinear.\n",
      "  warnings.warn(\"Variables are collinear.\")\n",
      "C:\\Users\\Programming\\Anaconda3\\lib\\site-packages\\sklearn\\discriminant_analysis.py:388: UserWarning: Variables are collinear.\n",
      "  warnings.warn(\"Variables are collinear.\")\n",
      "C:\\Users\\Programming\\Anaconda3\\lib\\site-packages\\sklearn\\discriminant_analysis.py:388: UserWarning: Variables are collinear.\n",
      "  warnings.warn(\"Variables are collinear.\")\n",
      "C:\\Users\\Programming\\Anaconda3\\lib\\site-packages\\sklearn\\discriminant_analysis.py:388: UserWarning: Variables are collinear.\n",
      "  warnings.warn(\"Variables are collinear.\")\n",
      "C:\\Users\\Programming\\Anaconda3\\lib\\site-packages\\sklearn\\discriminant_analysis.py:388: UserWarning: Variables are collinear.\n",
      "  warnings.warn(\"Variables are collinear.\")\n",
      "C:\\Users\\Programming\\Anaconda3\\lib\\site-packages\\sklearn\\discriminant_analysis.py:388: UserWarning: Variables are collinear.\n",
      "  warnings.warn(\"Variables are collinear.\")\n"
     ]
    },
    {
     "name": "stdout",
     "output_type": "stream",
     "text": [
      "\n",
      "Cross Validation with verification set\n",
      "\n",
      "LR: 0.805732 (0.052099)\n",
      "LDA: 0.805732 (0.053229)\n",
      "KNN: 0.772085 (0.053221)\n",
      "CART: 0.789006 (0.027608)\n",
      "SVM: 0.784664 (0.051890)\n",
      "NB: 0.424746 (0.044779)\n",
      "\n",
      "\n"
     ]
    },
    {
     "data": {
      "image/png": "[encoded data removed]",
      "text/plain": [
       "<matplotlib.figure.Figure at 0x1e762f07f28>"
      ]
     },
     "metadata": {},
     "output_type": "display_data"
    }
   ],
   "source": [
    "# Try One Hot Encoding\n",
    "\n",
    "dataset = pd.read_csv('C:/Users/Programming/Desktop/train.csv')\n",
    "\n",
    "one_hot = pd.get_dummies(dataset['SibSp'])\n",
    "dataset.drop(['SibSp'], axis = 1, inplace = True)\n",
    "dataset = dataset.join(one_hot)\n",
    "\n",
    "# spot check\n",
    "# Perform course pre processing but keep title column\n",
    "dataset.drop(['PassengerId', 'Ticket', 'Name'], axis = 1, inplace = True)\n",
    "#### Deal with missing Data\n",
    "dataset.drop(['Cabin'], axis = 1, inplace = True)\n",
    "dataset = dataset[pd.notnull(dataset['Embarked'])]\n",
    "dataset[['Age']] = Imputer().fit_transform(dataset[['Age']].values)\n",
    "# use integer encoding for embarked\n",
    "le = preprocessing.LabelEncoder()\n",
    "dataset['Embarked'] = le.fit_transform(dataset['Embarked'])\n",
    "dataset[['Sex']] = dataset[['Sex']].replace('male', 0)\n",
    "dataset[['Sex']] = dataset[['Sex']].replace('female', 1)\n",
    "\n",
    "dataset = normaliseColumnValues(dataset, ['Pclass', 'Parch', 'Fare', 'Embarked', 'Age'])\n",
    "\n",
    "plotModelImprovement(dataset, 'Survived', models, validation_size, seed, coarse_result_means, 'Percentage_Increase_in_Accuracy_with_SibSp_Variable_Using_OHE')"
   ]
  },
  {
   "cell_type": "markdown",
   "metadata": {},
   "source": [
    "## Parent/Child"
   ]
  },
  {
   "cell_type": "code",
   "execution_count": 21,
   "metadata": {},
   "outputs": [
    {
     "data": {
      "image/png": "[encoded data removed]",
      "text/plain": [
       "<matplotlib.figure.Figure at 0x1e762f42390>"
      ]
     },
     "metadata": {},
     "output_type": "display_data"
    }
   ],
   "source": [
    "# Reload Dataset\n",
    "dataset = pd.read_csv('C:/Users/Programming/Desktop/train.csv')\n",
    "\n",
    "percent_survived_data = findPercentageSurvived('Parch', dataset, [0,1,2,3,4,5,6], True);"
   ]
  },
  {
   "cell_type": "code",
   "execution_count": 22,
   "metadata": {},
   "outputs": [
    {
     "name": "stderr",
     "output_type": "stream",
     "text": [
      "C:\\Users\\Programming\\Anaconda3\\lib\\site-packages\\sklearn\\utils\\validation.py:475: DataConversionWarning: Data with input dtype int64 was converted to float64 by MinMaxScaler.\n",
      "  warnings.warn(msg, DataConversionWarning)\n"
     ]
    },
    {
     "name": "stdout",
     "output_type": "stream",
     "text": [
      "\n",
      "Cross Validation with verification set\n",
      "\n",
      "LR: 0.788889 (0.053366)\n",
      "LDA: 0.794484 (0.062647)\n",
      "KNN: 0.783275 (0.059425)\n",
      "CART: 0.786228 (0.039660)\n",
      "SVM: 0.784664 (0.054863)\n",
      "NB: 0.786072 (0.055845)\n",
      "\n",
      "\n"
     ]
    },
    {
     "data": {
      "image/png": "[encoded data removed]",
      "text/plain": [
       "<matplotlib.figure.Figure at 0x1e762f0ef98>"
      ]
     },
     "metadata": {},
     "output_type": "display_data"
    }
   ],
   "source": [
    "dataset = pd.read_csv('C:/Users/Programming/Desktop/train.csv')\n",
    "\n",
    "percent_survived_data = percent_survived_data.sort_values(by = '% Survived')\n",
    "i = 0;\n",
    "for group in percent_survived_data.index.values:\n",
    "    dataset.Parch = dataset.Parch.replace(group, i)\n",
    "    i+=1\n",
    "\n",
    "# spot check\n",
    "# Perform course pre processing but keep title column\n",
    "dataset.drop(['PassengerId', 'Ticket', 'Name'], axis = 1, inplace = True)\n",
    "#### Deal with missing Data\n",
    "dataset.drop(['Cabin'], axis = 1, inplace = True)\n",
    "dataset = dataset[pd.notnull(dataset['Embarked'])]\n",
    "dataset[['Age']] = Imputer().fit_transform(dataset[['Age']].values)\n",
    "# use integer encoding for embarked\n",
    "le = preprocessing.LabelEncoder()\n",
    "dataset['Embarked'] = le.fit_transform(dataset['Embarked'])\n",
    "dataset[['Sex']] = dataset[['Sex']].replace('male', 0)\n",
    "dataset[['Sex']] = dataset[['Sex']].replace('female', 1)\n",
    "\n",
    "dataset = normaliseColumnValues(dataset, ['Pclass', 'SibSp', 'Parch', 'Fare', 'Embarked', 'Age'])\n",
    "\n",
    "plotModelImprovement(dataset, 'Survived', models, validation_size, seed, coarse_result_means, 'Percentage_Increase_in_Accuracy_with_Parch_Variable_Using_CIE')"
   ]
  },
  {
   "cell_type": "code",
   "execution_count": 23,
   "metadata": {},
   "outputs": [
    {
     "name": "stderr",
     "output_type": "stream",
     "text": [
      "C:\\Users\\Programming\\Anaconda3\\lib\\site-packages\\sklearn\\utils\\validation.py:475: DataConversionWarning: Data with input dtype int64 was converted to float64 by MinMaxScaler.\n",
      "  warnings.warn(msg, DataConversionWarning)\n",
      "C:\\Users\\Programming\\Anaconda3\\lib\\site-packages\\sklearn\\discriminant_analysis.py:388: UserWarning: Variables are collinear.\n",
      "  warnings.warn(\"Variables are collinear.\")\n",
      "C:\\Users\\Programming\\Anaconda3\\lib\\site-packages\\sklearn\\discriminant_analysis.py:388: UserWarning: Variables are collinear.\n",
      "  warnings.warn(\"Variables are collinear.\")\n",
      "C:\\Users\\Programming\\Anaconda3\\lib\\site-packages\\sklearn\\discriminant_analysis.py:388: UserWarning: Variables are collinear.\n",
      "  warnings.warn(\"Variables are collinear.\")\n",
      "C:\\Users\\Programming\\Anaconda3\\lib\\site-packages\\sklearn\\discriminant_analysis.py:388: UserWarning: Variables are collinear.\n",
      "  warnings.warn(\"Variables are collinear.\")\n",
      "C:\\Users\\Programming\\Anaconda3\\lib\\site-packages\\sklearn\\discriminant_analysis.py:388: UserWarning: Variables are collinear.\n",
      "  warnings.warn(\"Variables are collinear.\")\n",
      "C:\\Users\\Programming\\Anaconda3\\lib\\site-packages\\sklearn\\discriminant_analysis.py:388: UserWarning: Variables are collinear.\n",
      "  warnings.warn(\"Variables are collinear.\")\n",
      "C:\\Users\\Programming\\Anaconda3\\lib\\site-packages\\sklearn\\discriminant_analysis.py:388: UserWarning: Variables are collinear.\n",
      "  warnings.warn(\"Variables are collinear.\")\n",
      "C:\\Users\\Programming\\Anaconda3\\lib\\site-packages\\sklearn\\discriminant_analysis.py:388: UserWarning: Variables are collinear.\n",
      "  warnings.warn(\"Variables are collinear.\")\n",
      "C:\\Users\\Programming\\Anaconda3\\lib\\site-packages\\sklearn\\discriminant_analysis.py:388: UserWarning: Variables are collinear.\n",
      "  warnings.warn(\"Variables are collinear.\")\n",
      "C:\\Users\\Programming\\Anaconda3\\lib\\site-packages\\sklearn\\discriminant_analysis.py:388: UserWarning: Variables are collinear.\n",
      "  warnings.warn(\"Variables are collinear.\")\n"
     ]
    },
    {
     "name": "stdout",
     "output_type": "stream",
     "text": [
      "\n",
      "Cross Validation with verification set\n",
      "\n",
      "LR: 0.794503 (0.055965)\n",
      "LDA: 0.793095 (0.058685)\n",
      "KNN: 0.777680 (0.056529)\n",
      "CART: 0.777778 (0.034944)\n",
      "SVM: 0.781866 (0.052348)\n",
      "NB: 0.405067 (0.056265)\n",
      "\n",
      "\n"
     ]
    },
    {
     "data": {
      "image/png": "[encoded data removed]",
      "text/plain": [
       "<matplotlib.figure.Figure at 0x1e763187588>"
      ]
     },
     "metadata": {},
     "output_type": "display_data"
    }
   ],
   "source": [
    "dataset = pd.read_csv('C:/Users/Programming/Desktop/train.csv')\n",
    "\n",
    "one_hot = pd.get_dummies(dataset['Parch'])\n",
    "dataset.drop(['Parch'], axis = 1, inplace = True)\n",
    "dataset = dataset.join(one_hot)\n",
    "\n",
    "# spot check\n",
    "# Perform course pre processing but keep title column\n",
    "dataset.drop(['PassengerId', 'Ticket', 'Name'], axis = 1, inplace = True)\n",
    "#### Deal with missing Data\n",
    "dataset.drop(['Cabin'], axis = 1, inplace = True)\n",
    "dataset = dataset[pd.notnull(dataset['Embarked'])]\n",
    "dataset[['Age']] = Imputer().fit_transform(dataset[['Age']].values)\n",
    "# use integer encoding for embarked\n",
    "le = preprocessing.LabelEncoder()\n",
    "dataset['Embarked'] = le.fit_transform(dataset['Embarked'])\n",
    "dataset[['Sex']] = dataset[['Sex']].replace('male', 0)\n",
    "dataset[['Sex']] = dataset[['Sex']].replace('female', 1)\n",
    "\n",
    "dataset = normaliseColumnValues(dataset, ['Pclass', 'SibSp', 'Fare', 'Embarked', 'Age'])\n",
    "\n",
    "plotModelImprovement(dataset, 'Survived', models, validation_size, seed, coarse_result_means, 'Percentage_Increase_in_Accuracy_with_Parch_Variable_Using_OHE')"
   ]
  },
  {
   "cell_type": "markdown",
   "metadata": {},
   "source": [
    "## Ticket\n",
    "The ticket variable may hold valuable information for predictors, however, in its raw state is is unusable as it is a non-numeric variable with no seperate classes to group into. The ticket values can be split into a Prefix string and a number. The number always starts with the passenger class which provides no new information and there is no obvious information provided my the rest of the number. For this reason we will use the prefixes to see if they provide any new information. Any Tickets that did not have a prefix will be given a placeholder prefix 'U'. The following plot shows the percentage survival rate for each prefix."
   ]
  },
  {
   "cell_type": "code",
   "execution_count": 24,
   "metadata": {},
   "outputs": [
    {
     "data": {
      "text/html": [
       "<div>\n",
       "<style>\n",
       "    .dataframe thead tr:only-child th {\n",
       "        text-align: right;\n",
       "    }\n",
       "\n",
       "    .dataframe thead th {\n",
       "        text-align: left;\n",
       "    }\n",
       "\n",
       "    .dataframe tbody tr th {\n",
       "        vertical-align: top;\n",
       "    }\n",
       "</style>\n",
       "<table border=\"1\" class=\"dataframe\">\n",
       "  <thead>\n",
       "    <tr style=\"text-align: right;\">\n",
       "      <th></th>\n",
       "      <th>Survived</th>\n",
       "      <th>Pclass</th>\n",
       "      <th>Sex</th>\n",
       "      <th>Age</th>\n",
       "      <th>SibSp</th>\n",
       "      <th>Parch</th>\n",
       "      <th>Ticket</th>\n",
       "      <th>Fare</th>\n",
       "      <th>Embarked</th>\n",
       "    </tr>\n",
       "  </thead>\n",
       "  <tbody>\n",
       "    <tr>\n",
       "      <th>0</th>\n",
       "      <td>0</td>\n",
       "      <td>3</td>\n",
       "      <td>0</td>\n",
       "      <td>22.0</td>\n",
       "      <td>1</td>\n",
       "      <td>0</td>\n",
       "      <td>A/5</td>\n",
       "      <td>7.2500</td>\n",
       "      <td>2</td>\n",
       "    </tr>\n",
       "    <tr>\n",
       "      <th>1</th>\n",
       "      <td>1</td>\n",
       "      <td>1</td>\n",
       "      <td>1</td>\n",
       "      <td>38.0</td>\n",
       "      <td>1</td>\n",
       "      <td>0</td>\n",
       "      <td>PC</td>\n",
       "      <td>71.2833</td>\n",
       "      <td>0</td>\n",
       "    </tr>\n",
       "    <tr>\n",
       "      <th>2</th>\n",
       "      <td>1</td>\n",
       "      <td>3</td>\n",
       "      <td>1</td>\n",
       "      <td>26.0</td>\n",
       "      <td>0</td>\n",
       "      <td>0</td>\n",
       "      <td>STON/O2.</td>\n",
       "      <td>7.9250</td>\n",
       "      <td>2</td>\n",
       "    </tr>\n",
       "    <tr>\n",
       "      <th>3</th>\n",
       "      <td>1</td>\n",
       "      <td>1</td>\n",
       "      <td>1</td>\n",
       "      <td>35.0</td>\n",
       "      <td>1</td>\n",
       "      <td>0</td>\n",
       "      <td>U</td>\n",
       "      <td>53.1000</td>\n",
       "      <td>2</td>\n",
       "    </tr>\n",
       "    <tr>\n",
       "      <th>4</th>\n",
       "      <td>0</td>\n",
       "      <td>3</td>\n",
       "      <td>0</td>\n",
       "      <td>35.0</td>\n",
       "      <td>0</td>\n",
       "      <td>0</td>\n",
       "      <td>U</td>\n",
       "      <td>8.0500</td>\n",
       "      <td>2</td>\n",
       "    </tr>\n",
       "  </tbody>\n",
       "</table>\n",
       "</div>"
      ],
      "text/plain": [
       "   Survived  Pclass  Sex   Age  SibSp  Parch    Ticket     Fare  Embarked\n",
       "0         0       3    0  22.0      1      0       A/5   7.2500         2\n",
       "1         1       1    1  38.0      1      0        PC  71.2833         0\n",
       "2         1       3    1  26.0      0      0  STON/O2.   7.9250         2\n",
       "3         1       1    1  35.0      1      0         U  53.1000         2\n",
       "4         0       3    0  35.0      0      0         U   8.0500         2"
      ]
     },
     "metadata": {},
     "output_type": "display_data"
    },
    {
     "name": "stderr",
     "output_type": "stream",
     "text": [
      "C:\\Users\\Programming\\Anaconda3\\lib\\site-packages\\sklearn\\utils\\validation.py:475: DataConversionWarning: Data with input dtype int64 was converted to float64 by MinMaxScaler.\n",
      "  warnings.warn(msg, DataConversionWarning)\n"
     ]
    },
    {
     "name": "stdout",
     "output_type": "stream",
     "text": [
      "\n",
      "Cross Validation with verification set\n",
      "\n",
      "LR: 0.793095 (0.059690)\n",
      "LDA: 0.795912 (0.057724)\n",
      "KNN: 0.795912 (0.062983)\n",
      "CART: 0.793290 (0.033050)\n",
      "SVM: 0.781866 (0.052348)\n",
      "NB: 0.795951 (0.042695)\n",
      "\n",
      "\n"
     ]
    },
    {
     "data": {
      "image/png": "[encoded data removed]",
      "text/plain": [
       "<matplotlib.figure.Figure at 0x1e762f04d30>"
      ]
     },
     "metadata": {},
     "output_type": "display_data"
    },
    {
     "data": {
      "image/png": "[encoded data removed]",
      "text/plain": [
       "<matplotlib.figure.Figure at 0x1e762ff92e8>"
      ]
     },
     "metadata": {},
     "output_type": "display_data"
    }
   ],
   "source": [
    "# Reload Dataset\n",
    "dataset = pd.read_csv('C:/Users/Programming/Desktop/train.csv')\n",
    "\n",
    "# transform Ticket to only contain the ticket Prefix\n",
    "def getTicketPrefix(x):\n",
    "    if re.search('[a-zA-Z]', x):\n",
    "        if ' ' in x:\n",
    "            [x,_] = x.split(' ',1)\n",
    "            return x\n",
    "        else:\n",
    "            return x\n",
    "    x = 'U'\n",
    "    return x\n",
    "dataset.Ticket = dataset.Ticket.apply(getTicketPrefix)\n",
    "\n",
    "percent_survived_data = findPercentageSurvived('Ticket', dataset, None, True);\n",
    "\n",
    "dataset.drop(['PassengerId'], axis = 1, inplace = True)\n",
    "dataset.drop(['Name'], axis = 1, inplace = True)\n",
    "#dataset.drop(['Ticket'], axis = 1, inplace = True)\n",
    "dataset.drop(['Cabin'], axis = 1, inplace = True)\n",
    "dataset = dataset[pd.notnull(dataset['Embarked'])]\n",
    "dataset[['Age']] = Imputer().fit_transform(dataset[['Age']].values)\n",
    "dataset[['Sex']] = dataset[['Sex']].replace('male', 0)\n",
    "dataset[['Sex']] = dataset[['Sex']].replace('female', 1)\n",
    "# use integer encoding for embarked\n",
    "le = preprocessing.LabelEncoder()\n",
    "dataset.Embarked = le.fit_transform(dataset.Embarked)\n",
    "\n",
    "# Make copy to perform one-hot Encoding on\n",
    "one_hot_dataset = dataset.copy()\n",
    "\n",
    "display(dataset.head(5))\n",
    "\n",
    "percent_survived_data = percent_survived_data.sort_values(by = '% Survived')\n",
    "i = 0;\n",
    "for group in percent_survived_data.index.values:\n",
    "    dataset.Ticket = dataset.Ticket.replace(group, i)\n",
    "    i+=1\n",
    "\n",
    "dataset.Ticket = le.fit_transform(dataset.Ticket)\n",
    "\n",
    "dataset = normaliseColumnValues(dataset, ['Pclass', 'SibSp', 'Parch', 'Fare', 'Embarked', 'Age', 'Ticket'])\n",
    "    \n",
    "plotModelImprovement(dataset, 'Survived', models, validation_size, seed, coarse_result_means, 'Percentage Increase in Accuracy with Ticket Prefix Variable Using Correlated Integer Encoding')"
   ]
  },
  {
   "cell_type": "code",
   "execution_count": 25,
   "metadata": {},
   "outputs": [
    {
     "data": {
      "text/html": [
       "<div>\n",
       "<style>\n",
       "    .dataframe thead tr:only-child th {\n",
       "        text-align: right;\n",
       "    }\n",
       "\n",
       "    .dataframe thead th {\n",
       "        text-align: left;\n",
       "    }\n",
       "\n",
       "    .dataframe tbody tr th {\n",
       "        vertical-align: top;\n",
       "    }\n",
       "</style>\n",
       "<table border=\"1\" class=\"dataframe\">\n",
       "  <thead>\n",
       "    <tr style=\"text-align: right;\">\n",
       "      <th></th>\n",
       "      <th>Survived</th>\n",
       "      <th>Pclass</th>\n",
       "      <th>Sex</th>\n",
       "      <th>Age</th>\n",
       "      <th>SibSp</th>\n",
       "      <th>Parch</th>\n",
       "      <th>Fare</th>\n",
       "      <th>Embarked</th>\n",
       "      <th>A./5.</th>\n",
       "      <th>A.5.</th>\n",
       "      <th>...</th>\n",
       "      <th>SOTON/O2</th>\n",
       "      <th>SOTON/OQ</th>\n",
       "      <th>STON/O</th>\n",
       "      <th>STON/O2.</th>\n",
       "      <th>SW/PP</th>\n",
       "      <th>U</th>\n",
       "      <th>W./C.</th>\n",
       "      <th>W.E.P.</th>\n",
       "      <th>W/C</th>\n",
       "      <th>WE/P</th>\n",
       "    </tr>\n",
       "  </thead>\n",
       "  <tbody>\n",
       "    <tr>\n",
       "      <th>0</th>\n",
       "      <td>0</td>\n",
       "      <td>3</td>\n",
       "      <td>0</td>\n",
       "      <td>22.0</td>\n",
       "      <td>1</td>\n",
       "      <td>0</td>\n",
       "      <td>7.2500</td>\n",
       "      <td>2</td>\n",
       "      <td>0</td>\n",
       "      <td>0</td>\n",
       "      <td>...</td>\n",
       "      <td>0</td>\n",
       "      <td>0</td>\n",
       "      <td>0</td>\n",
       "      <td>0</td>\n",
       "      <td>0</td>\n",
       "      <td>0</td>\n",
       "      <td>0</td>\n",
       "      <td>0</td>\n",
       "      <td>0</td>\n",
       "      <td>0</td>\n",
       "    </tr>\n",
       "    <tr>\n",
       "      <th>1</th>\n",
       "      <td>1</td>\n",
       "      <td>1</td>\n",
       "      <td>1</td>\n",
       "      <td>38.0</td>\n",
       "      <td>1</td>\n",
       "      <td>0</td>\n",
       "      <td>71.2833</td>\n",
       "      <td>0</td>\n",
       "      <td>0</td>\n",
       "      <td>0</td>\n",
       "      <td>...</td>\n",
       "      <td>0</td>\n",
       "      <td>0</td>\n",
       "      <td>0</td>\n",
       "      <td>0</td>\n",
       "      <td>0</td>\n",
       "      <td>0</td>\n",
       "      <td>0</td>\n",
       "      <td>0</td>\n",
       "      <td>0</td>\n",
       "      <td>0</td>\n",
       "    </tr>\n",
       "    <tr>\n",
       "      <th>2</th>\n",
       "      <td>1</td>\n",
       "      <td>3</td>\n",
       "      <td>1</td>\n",
       "      <td>26.0</td>\n",
       "      <td>0</td>\n",
       "      <td>0</td>\n",
       "      <td>7.9250</td>\n",
       "      <td>2</td>\n",
       "      <td>0</td>\n",
       "      <td>0</td>\n",
       "      <td>...</td>\n",
       "      <td>0</td>\n",
       "      <td>0</td>\n",
       "      <td>0</td>\n",
       "      <td>1</td>\n",
       "      <td>0</td>\n",
       "      <td>0</td>\n",
       "      <td>0</td>\n",
       "      <td>0</td>\n",
       "      <td>0</td>\n",
       "      <td>0</td>\n",
       "    </tr>\n",
       "    <tr>\n",
       "      <th>3</th>\n",
       "      <td>1</td>\n",
       "      <td>1</td>\n",
       "      <td>1</td>\n",
       "      <td>35.0</td>\n",
       "      <td>1</td>\n",
       "      <td>0</td>\n",
       "      <td>53.1000</td>\n",
       "      <td>2</td>\n",
       "      <td>0</td>\n",
       "      <td>0</td>\n",
       "      <td>...</td>\n",
       "      <td>0</td>\n",
       "      <td>0</td>\n",
       "      <td>0</td>\n",
       "      <td>0</td>\n",
       "      <td>0</td>\n",
       "      <td>1</td>\n",
       "      <td>0</td>\n",
       "      <td>0</td>\n",
       "      <td>0</td>\n",
       "      <td>0</td>\n",
       "    </tr>\n",
       "    <tr>\n",
       "      <th>4</th>\n",
       "      <td>0</td>\n",
       "      <td>3</td>\n",
       "      <td>0</td>\n",
       "      <td>35.0</td>\n",
       "      <td>0</td>\n",
       "      <td>0</td>\n",
       "      <td>8.0500</td>\n",
       "      <td>2</td>\n",
       "      <td>0</td>\n",
       "      <td>0</td>\n",
       "      <td>...</td>\n",
       "      <td>0</td>\n",
       "      <td>0</td>\n",
       "      <td>0</td>\n",
       "      <td>0</td>\n",
       "      <td>0</td>\n",
       "      <td>1</td>\n",
       "      <td>0</td>\n",
       "      <td>0</td>\n",
       "      <td>0</td>\n",
       "      <td>0</td>\n",
       "    </tr>\n",
       "  </tbody>\n",
       "</table>\n",
       "<p>5 rows × 52 columns</p>\n",
       "</div>"
      ],
      "text/plain": [
       "   Survived  Pclass  Sex   Age  SibSp  Parch     Fare  Embarked  A./5.  A.5.  \\\n",
       "0         0       3    0  22.0      1      0   7.2500         2      0     0   \n",
       "1         1       1    1  38.0      1      0  71.2833         0      0     0   \n",
       "2         1       3    1  26.0      0      0   7.9250         2      0     0   \n",
       "3         1       1    1  35.0      1      0  53.1000         2      0     0   \n",
       "4         0       3    0  35.0      0      0   8.0500         2      0     0   \n",
       "\n",
       "   ...   SOTON/O2  SOTON/OQ  STON/O  STON/O2.  SW/PP  U  W./C.  W.E.P.  W/C  \\\n",
       "0  ...          0         0       0         0      0  0      0       0    0   \n",
       "1  ...          0         0       0         0      0  0      0       0    0   \n",
       "2  ...          0         0       0         1      0  0      0       0    0   \n",
       "3  ...          0         0       0         0      0  1      0       0    0   \n",
       "4  ...          0         0       0         0      0  1      0       0    0   \n",
       "\n",
       "   WE/P  \n",
       "0     0  \n",
       "1     0  \n",
       "2     0  \n",
       "3     0  \n",
       "4     0  \n",
       "\n",
       "[5 rows x 52 columns]"
      ]
     },
     "metadata": {},
     "output_type": "display_data"
    },
    {
     "name": "stderr",
     "output_type": "stream",
     "text": [
      "C:\\Users\\Programming\\Anaconda3\\lib\\site-packages\\sklearn\\utils\\validation.py:475: DataConversionWarning: Data with input dtype int64 was converted to float64 by MinMaxScaler.\n",
      "  warnings.warn(msg, DataConversionWarning)\n"
     ]
    },
    {
     "name": "stdout",
     "output_type": "stream",
     "text": [
      "\n",
      "Cross Validation with verification set\n",
      "\n",
      "LR: 0.793095 (0.059690)\n",
      "LDA: 0.795912 (0.057724)\n",
      "KNN: 0.795912 (0.062983)\n",
      "CART: 0.794679 (0.034449)\n",
      "SVM: 0.781866 (0.052348)\n",
      "NB: 0.795951 (0.042695)\n",
      "\n",
      "\n"
     ]
    },
    {
     "data": {
      "image/png": "[encoded data removed]",
      "text/plain": [
       "<matplotlib.figure.Figure at 0x1e763176ba8>"
      ]
     },
     "metadata": {},
     "output_type": "display_data"
    }
   ],
   "source": [
    "#Try one hot encoding Prefix\n",
    "\n",
    "one_hot = pd.get_dummies(one_hot_dataset['Ticket'])\n",
    "one_hot_dataset.drop(['Ticket'], axis = 1, inplace = True)\n",
    "one_hot_dataset = one_hot_dataset.join(one_hot)\n",
    "\n",
    "display(one_hot_dataset.head(5))\n",
    "\n",
    "all_titles_to_normalise =  ['Pclass', 'SibSp', 'Parch', 'Fare', 'Embarked', 'Age']\n",
    "\n",
    "one_hot_dataset = normaliseColumnValues(one_hot_dataset, all_titles_to_normalise)\n",
    "\n",
    "plotModelImprovement(one_hot_dataset, 'Survived', models, validation_size, seed, coarse_result_means, 'Percentage_Increase_in_Accuracy_with_Ticket_Prefix_Variable_Using_OHE')\n",
    "\n"
   ]
  },
  {
   "cell_type": "markdown",
   "metadata": {},
   "source": [
    "## Combine"
   ]
  },
  {
   "cell_type": "code",
   "execution_count": 26,
   "metadata": {
    "collapsed": true
   },
   "outputs": [],
   "source": [
    "dataset = pd.read_csv('C:/Users/Programming/Desktop/train.csv')"
   ]
  },
  {
   "cell_type": "code",
   "execution_count": 27,
   "metadata": {
    "collapsed": true
   },
   "outputs": [],
   "source": [
    "# Remove Passenger Id and Cabin Id\n",
    "dataset.drop(['PassengerId'], axis = 1, inplace = True)\n",
    "dataset.drop(['Cabin'], axis = 1, inplace = True)\n",
    "dataset.drop(['Ticket'], axis = 1, inplace = True)"
   ]
  },
  {
   "cell_type": "code",
   "execution_count": 28,
   "metadata": {
    "collapsed": true
   },
   "outputs": [],
   "source": [
    "# Impute Missing ages\n",
    "dataset[['Age']] = Imputer().fit_transform(dataset[['Age']].values)"
   ]
  },
  {
   "cell_type": "code",
   "execution_count": 29,
   "metadata": {
    "collapsed": true
   },
   "outputs": [],
   "source": [
    "# A very small number of Embarked data is is missing so these rows can be removed withought losing much data\n",
    "dataset = dataset[pd.notnull(dataset['Embarked'])]"
   ]
  },
  {
   "cell_type": "code",
   "execution_count": 30,
   "metadata": {
    "collapsed": true
   },
   "outputs": [],
   "source": [
    "#Sex is non numeric, as there are only 2 classes we can swap male and female for 0 and 1\n",
    "dataset[['Sex']] = dataset[['Sex']].replace('male', 0)\n",
    "dataset[['Sex']] = dataset[['Sex']].replace('female', 1)"
   ]
  },
  {
   "cell_type": "markdown",
   "metadata": {
    "collapsed": true
   },
   "source": [
    "#Get ticket prefixes\n",
    "#ticket_ds = pd.DataFrame(columns = [['Prefix']], data = dataset.Ticket.values.copy())\n",
    "\n",
    "def getTicketPrefix(x):\n",
    "    if re.search('[a-zA-Z]', x):\n",
    "        if ' ' in x:\n",
    "            [x,_] = x.split(' ',1)\n",
    "            return x\n",
    "        else:\n",
    "            return x\n",
    "    x = 'U'\n",
    "    return x\n",
    "\n",
    "dataset['Prefix'] = dataset.Ticket.apply(getTicketPrefix)\n",
    "#dataset = dataset.join(dataset.Survived)\n",
    "\n",
    "#Integer encode Prefixes in an order correlated with Survival\n",
    "percent_survived_data = findPercentageSurvived('Prefix', dataset, None, False);\n",
    "percent_survived_data = percent_survived_data.sort_values(by = '% Survived')\n",
    "i = 0;\n",
    "for group in percent_survived_data.index.values:\n",
    "    dataset.Prefix = dataset.Prefix.replace(group, i)\n",
    "    i+=1\n",
    "\n",
    "dataset.drop(['Ticket'], axis = 1, inplace = True)"
   ]
  },
  {
   "cell_type": "code",
   "execution_count": 31,
   "metadata": {},
   "outputs": [
    {
     "data": {
      "text/html": [
       "<div>\n",
       "<style>\n",
       "    .dataframe thead tr:only-child th {\n",
       "        text-align: right;\n",
       "    }\n",
       "\n",
       "    .dataframe thead th {\n",
       "        text-align: left;\n",
       "    }\n",
       "\n",
       "    .dataframe tbody tr th {\n",
       "        vertical-align: top;\n",
       "    }\n",
       "</style>\n",
       "<table border=\"1\" class=\"dataframe\">\n",
       "  <thead>\n",
       "    <tr style=\"text-align: right;\">\n",
       "      <th></th>\n",
       "      <th>Survived</th>\n",
       "      <th>Pclass</th>\n",
       "      <th>Title</th>\n",
       "      <th>Sex</th>\n",
       "      <th>Age</th>\n",
       "      <th>SibSp</th>\n",
       "      <th>Parch</th>\n",
       "      <th>Fare</th>\n",
       "      <th>Embarked</th>\n",
       "    </tr>\n",
       "  </thead>\n",
       "  <tbody>\n",
       "    <tr>\n",
       "      <th>0</th>\n",
       "      <td>0</td>\n",
       "      <td>3</td>\n",
       "      <td>1</td>\n",
       "      <td>0</td>\n",
       "      <td>22.0</td>\n",
       "      <td>1</td>\n",
       "      <td>0</td>\n",
       "      <td>7.2500</td>\n",
       "      <td>S</td>\n",
       "    </tr>\n",
       "    <tr>\n",
       "      <th>1</th>\n",
       "      <td>1</td>\n",
       "      <td>1</td>\n",
       "      <td>6</td>\n",
       "      <td>1</td>\n",
       "      <td>38.0</td>\n",
       "      <td>1</td>\n",
       "      <td>0</td>\n",
       "      <td>71.2833</td>\n",
       "      <td>C</td>\n",
       "    </tr>\n",
       "    <tr>\n",
       "      <th>2</th>\n",
       "      <td>1</td>\n",
       "      <td>3</td>\n",
       "      <td>5</td>\n",
       "      <td>1</td>\n",
       "      <td>26.0</td>\n",
       "      <td>0</td>\n",
       "      <td>0</td>\n",
       "      <td>7.9250</td>\n",
       "      <td>S</td>\n",
       "    </tr>\n",
       "    <tr>\n",
       "      <th>3</th>\n",
       "      <td>1</td>\n",
       "      <td>1</td>\n",
       "      <td>6</td>\n",
       "      <td>1</td>\n",
       "      <td>35.0</td>\n",
       "      <td>1</td>\n",
       "      <td>0</td>\n",
       "      <td>53.1000</td>\n",
       "      <td>S</td>\n",
       "    </tr>\n",
       "    <tr>\n",
       "      <th>4</th>\n",
       "      <td>0</td>\n",
       "      <td>3</td>\n",
       "      <td>1</td>\n",
       "      <td>0</td>\n",
       "      <td>35.0</td>\n",
       "      <td>0</td>\n",
       "      <td>0</td>\n",
       "      <td>8.0500</td>\n",
       "      <td>S</td>\n",
       "    </tr>\n",
       "  </tbody>\n",
       "</table>\n",
       "</div>"
      ],
      "text/plain": [
       "   Survived  Pclass  Title  Sex   Age  SibSp  Parch     Fare Embarked\n",
       "0         0       3      1    0  22.0      1      0   7.2500        S\n",
       "1         1       1      6    1  38.0      1      0  71.2833        C\n",
       "2         1       3      5    1  26.0      0      0   7.9250        S\n",
       "3         1       1      6    1  35.0      1      0  53.1000        S\n",
       "4         0       3      1    0  35.0      0      0   8.0500        S"
      ]
     },
     "metadata": {},
     "output_type": "display_data"
    }
   ],
   "source": [
    "# Replace Name with Titles\n",
    "dataset['Name'] = dataset['Name'].map(lambda x: x.split(',')[1].split('.')[0].strip())\n",
    "dataset= dataset.rename(columns = {'two':'new_name'})\n",
    "dataset = dataset.rename(columns = {'Name':'Title'})\n",
    "\n",
    "replacement = {\n",
    "    'Don': 0,\n",
    "    'Rev': 0,\n",
    "    'Jonkheer': 0,\n",
    "    'Capt': 0,\n",
    "    'Mr': 1,\n",
    "    'Dr': 2,\n",
    "    'Col': 3,\n",
    "    'Major': 3,\n",
    "    'Master': 4,\n",
    "    'Miss': 5,\n",
    "    'Mrs': 6,\n",
    "    'Mme': 7,\n",
    "    'Ms': 7,\n",
    "    'Mlle': 7,\n",
    "    'Sir': 7,\n",
    "    'Lady': 7,\n",
    "    'the Countess': 7\n",
    "}\n",
    "\n",
    "dataset['Title'] = dataset['Title'].apply(lambda x: replacement.get(x))\n",
    "\n",
    "display(dataset.head(5))\n",
    "\n"
   ]
  },
  {
   "cell_type": "code",
   "execution_count": null,
   "metadata": {
    "collapsed": true
   },
   "outputs": [],
   "source": []
  },
  {
   "cell_type": "code",
   "execution_count": 32,
   "metadata": {
    "collapsed": true
   },
   "outputs": [],
   "source": [
    "# use integer encoding for embarked\n",
    "le = preprocessing.LabelEncoder()\n",
    "dataset.Embarked = le.fit_transform(dataset.Embarked)\n"
   ]
  },
  {
   "cell_type": "code",
   "execution_count": 33,
   "metadata": {
    "collapsed": true
   },
   "outputs": [],
   "source": [
    "# Put ages into bins\n",
    "age_bins = []\n",
    "age_group_names = []\n",
    "increment = 1;\n",
    "i = 0\n",
    "j = 0\n",
    "\n",
    "while i < 80:\n",
    "    age_bins.append(i)\n",
    "    j = i+increment\n",
    "    age_group_names.append('(' + str(i) + ',' + str(j) + ']')\n",
    "    i+=increment\n",
    "    \n",
    "age_bins.append(i+1)\n",
    "\n",
    "dataset['Age_Group'] = pd.cut(dataset['Age'], age_bins, labels = age_group_names)\n",
    "percent_survived_data = findPercentageSurvived('Age_Group', dataset, age_group_names, False);\n",
    "\n",
    "percent_survived_data = percent_survived_data.sort_values(by = '% Survived')\n",
    "i = 0;\n",
    "for group in percent_survived_data.index.values:\n",
    "    dataset.Age_Group = dataset.Age_Group.replace(group, i)\n",
    "    i+=1\n",
    "\n",
    "dataset.drop(['Age'], axis = 1, inplace = True)"
   ]
  },
  {
   "cell_type": "code",
   "execution_count": 34,
   "metadata": {},
   "outputs": [
    {
     "name": "stderr",
     "output_type": "stream",
     "text": [
      "C:\\Users\\Programming\\Anaconda3\\lib\\site-packages\\sklearn\\utils\\validation.py:475: DataConversionWarning: Data with input dtype int64 was converted to float64 by MinMaxScaler.\n",
      "  warnings.warn(msg, DataConversionWarning)\n"
     ]
    },
    {
     "data": {
      "text/html": [
       "<div>\n",
       "<style>\n",
       "    .dataframe thead tr:only-child th {\n",
       "        text-align: right;\n",
       "    }\n",
       "\n",
       "    .dataframe thead th {\n",
       "        text-align: left;\n",
       "    }\n",
       "\n",
       "    .dataframe tbody tr th {\n",
       "        vertical-align: top;\n",
       "    }\n",
       "</style>\n",
       "<table border=\"1\" class=\"dataframe\">\n",
       "  <thead>\n",
       "    <tr style=\"text-align: right;\">\n",
       "      <th></th>\n",
       "      <th>Survived</th>\n",
       "      <th>Pclass</th>\n",
       "      <th>Title</th>\n",
       "      <th>Sex</th>\n",
       "      <th>SibSp</th>\n",
       "      <th>Parch</th>\n",
       "      <th>Fare</th>\n",
       "      <th>Embarked</th>\n",
       "      <th>Age_Group</th>\n",
       "    </tr>\n",
       "  </thead>\n",
       "  <tbody>\n",
       "    <tr>\n",
       "      <th>0</th>\n",
       "      <td>0</td>\n",
       "      <td>1.0</td>\n",
       "      <td>1</td>\n",
       "      <td>0</td>\n",
       "      <td>0.125</td>\n",
       "      <td>0.0</td>\n",
       "      <td>0.014151</td>\n",
       "      <td>1.0</td>\n",
       "      <td>0.550725</td>\n",
       "    </tr>\n",
       "    <tr>\n",
       "      <th>1</th>\n",
       "      <td>1</td>\n",
       "      <td>0.0</td>\n",
       "      <td>6</td>\n",
       "      <td>1</td>\n",
       "      <td>0.125</td>\n",
       "      <td>0.0</td>\n",
       "      <td>0.139136</td>\n",
       "      <td>0.0</td>\n",
       "      <td>0.521739</td>\n",
       "    </tr>\n",
       "    <tr>\n",
       "      <th>2</th>\n",
       "      <td>1</td>\n",
       "      <td>1.0</td>\n",
       "      <td>5</td>\n",
       "      <td>1</td>\n",
       "      <td>0.000</td>\n",
       "      <td>0.0</td>\n",
       "      <td>0.015469</td>\n",
       "      <td>1.0</td>\n",
       "      <td>0.391304</td>\n",
       "    </tr>\n",
       "    <tr>\n",
       "      <th>3</th>\n",
       "      <td>1</td>\n",
       "      <td>0.0</td>\n",
       "      <td>6</td>\n",
       "      <td>1</td>\n",
       "      <td>0.125</td>\n",
       "      <td>0.0</td>\n",
       "      <td>0.103644</td>\n",
       "      <td>1.0</td>\n",
       "      <td>0.782609</td>\n",
       "    </tr>\n",
       "    <tr>\n",
       "      <th>4</th>\n",
       "      <td>0</td>\n",
       "      <td>1.0</td>\n",
       "      <td>1</td>\n",
       "      <td>0</td>\n",
       "      <td>0.000</td>\n",
       "      <td>0.0</td>\n",
       "      <td>0.015713</td>\n",
       "      <td>1.0</td>\n",
       "      <td>0.782609</td>\n",
       "    </tr>\n",
       "  </tbody>\n",
       "</table>\n",
       "</div>"
      ],
      "text/plain": [
       "   Survived  Pclass  Title  Sex  SibSp  Parch      Fare  Embarked  Age_Group\n",
       "0         0     1.0      1    0  0.125    0.0  0.014151       1.0   0.550725\n",
       "1         1     0.0      6    1  0.125    0.0  0.139136       0.0   0.521739\n",
       "2         1     1.0      5    1  0.000    0.0  0.015469       1.0   0.391304\n",
       "3         1     0.0      6    1  0.125    0.0  0.103644       1.0   0.782609\n",
       "4         0     1.0      1    0  0.000    0.0  0.015713       1.0   0.782609"
      ]
     },
     "metadata": {},
     "output_type": "display_data"
    }
   ],
   "source": [
    "#normalise data\n",
    "dataset = normaliseColumnValues(dataset, ['Pclass', 'SibSp', 'Parch', 'Fare', 'Embarked', 'Age_Group'])\n",
    "\n",
    "display(dataset.head(5))"
   ]
  },
  {
   "cell_type": "code",
   "execution_count": 35,
   "metadata": {},
   "outputs": [
    {
     "name": "stdout",
     "output_type": "stream",
     "text": [
      "\n",
      "Cross Validation with verification set\n",
      "\n",
      "LR: 0.836718 (0.052193)\n",
      "LDA: 0.831084 (0.057553)\n",
      "KNN: 0.807218 (0.039660)\n",
      "CART: 0.804441 (0.035016)\n",
      "SVM: 0.819836 (0.059212)\n",
      "NB: 0.814182 (0.055762)\n",
      "\n",
      "\n"
     ]
    }
   ],
   "source": [
    "#Perform spot check\n",
    "[X,Y] = splitPredictorTarget(dataset, 'Survived')\n",
    "[results, result_means] = spotCheck(X, Y, models,  validation_size, seed)"
   ]
  },
  {
   "cell_type": "code",
   "execution_count": 36,
   "metadata": {},
   "outputs": [
    {
     "name": "stdout",
     "output_type": "stream",
     "text": [
      "\n",
      "Cross Validation with verification set\n",
      "\n",
      "LR: 0.836718 (0.052193)\n",
      "LDA: 0.831084 (0.057553)\n",
      "KNN: 0.807218 (0.039660)\n",
      "CART: 0.798807 (0.034823)\n",
      "SVM: 0.819836 (0.059212)\n",
      "NB: 0.814182 (0.055762)\n",
      "\n",
      "\n"
     ]
    },
    {
     "data": {
      "image/png": "[encoded data removed]",
      "text/plain": [
       "<matplotlib.figure.Figure at 0x1e762f0e630>"
      ]
     },
     "metadata": {},
     "output_type": "display_data"
    }
   ],
   "source": [
    "plotModelImprovement(dataset, 'Survived', models, validation_size, seed, coarse_result_means, 'Percentage_Increase_in_Accuracy_Using_Combined_Varible_Transformations')"
   ]
  }
 ],
 "metadata": {
  "kernelspec": {
   "display_name": "Python 3",
   "language": "python",
   "name": "python3"
  },
  "language_info": {
   "codemirror_mode": {
    "name": "ipython",
    "version": 3
   },
   "file_extension": ".py",
   "mimetype": "text/x-python",
   "name": "python",
   "nbconvert_exporter": "python",
   "pygments_lexer": "ipython3",
   "version": "3.6.3"
  }
 },
 "nbformat": 4,
 "nbformat_minor": 2
}
